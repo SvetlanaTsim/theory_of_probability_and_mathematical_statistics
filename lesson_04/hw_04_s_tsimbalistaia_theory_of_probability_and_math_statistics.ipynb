{
 "cells": [
  {
   "cell_type": "markdown",
   "id": "4bc65184",
   "metadata": {},
   "source": [
    "## **Урок 4. Непрерывные случайные величины. Функция распределения и плотность распределения вероятностей. Равномерное и нормальное распределение. Центральная предельная теорема**"
   ]
  },
  {
   "cell_type": "markdown",
   "id": "a1ecb0ee",
   "metadata": {},
   "source": [
    "#### Задача 1.Случайная непрерывная величина A имеет равномерное распределение на промежутке (200, 800].\n",
    "####  Найдите ее среднее значение и дисперсию."
   ]
  },
  {
   "cell_type": "markdown",
   "id": "84a91c1a",
   "metadata": {},
   "source": [
    "Математическое ожидание $M(X)$ равномерно распределенной непрерывной случайной величины можно вычислить по формуле:\n",
    "\n",
    "$$M(X) = \\frac{a + b}{2}$$"
   ]
  },
  {
   "cell_type": "code",
   "execution_count": 43,
   "id": "9b8ea4ea",
   "metadata": {},
   "outputs": [
    {
     "data": {
      "text/plain": [
       "500.0"
      ]
     },
     "execution_count": 43,
     "metadata": {},
     "output_type": "execute_result"
    }
   ],
   "source": [
    "M_X = (200 + 800) / 2\n",
    "M_X"
   ]
  },
  {
   "cell_type": "markdown",
   "id": "1b567180",
   "metadata": {},
   "source": [
    "По следующей формуле можно рассчитать дисперсию $D(X)$:\n",
    "\n",
    "$$D(X) = \\frac{(b - a)^2}{12}$$"
   ]
  },
  {
   "cell_type": "code",
   "execution_count": 44,
   "id": "ac7367ab",
   "metadata": {},
   "outputs": [
    {
     "data": {
      "text/plain": [
       "30000.0"
      ]
     },
     "execution_count": 44,
     "metadata": {},
     "output_type": "execute_result"
    }
   ],
   "source": [
    "D_X = ((800 - 200) ** 2) / 12\n",
    "D_X"
   ]
  },
  {
   "cell_type": "markdown",
   "id": "b7cc89b2",
   "metadata": {},
   "source": [
    "#### Задача 2.О случайной непрерывной равномерно распределенной величине B известно, что ее дисперсия равна 0.2.\n",
    "#### Можно ли найти правую границу величины B и ее среднее значение зная, что левая граница равна 0.5?\n",
    "#### Если да, найдите ее."
   ]
  },
  {
   "cell_type": "markdown",
   "id": "e767d53e",
   "metadata": {},
   "source": [
    "D(B) = 0.2\n",
    "\n",
    "a = 0.05\n",
    "\n",
    "Нужно найти b и среднее значение (математическое ожидание) M(B)"
   ]
  },
  {
   "cell_type": "markdown",
   "id": "c3b72ad6",
   "metadata": {},
   "source": [
    "По следующей формуле можно рассчитать дисперсию $D(B)$:\n",
    "\n",
    "$$D(B) = \\frac{(b - a)^2}{12}$$"
   ]
  },
  {
   "cell_type": "markdown",
   "id": "13c69a31",
   "metadata": {},
   "source": [
    "Чтобы найти правую границу решим уравнение:\n",
    "\n",
    "$\\frac{(b - 0.5)^2}{12}= 0.2$\n",
    "\n",
    "$b - 0.5 = \\pm \\sqrt{2.4}  \\approx  \\pm 1.55$\n",
    "\n",
    "Так как речь идет о правой границе величины, а левая граница равна a = 0.05, то b = 1.55"
   ]
  },
  {
   "cell_type": "markdown",
   "id": "04048384",
   "metadata": {},
   "source": [
    "\n",
    "$$M(B) = \\frac{a + b}{2}$$"
   ]
  },
  {
   "cell_type": "code",
   "execution_count": 45,
   "id": "fa4fd3f2",
   "metadata": {},
   "outputs": [
    {
     "data": {
      "text/plain": [
       "0.8"
      ]
     },
     "execution_count": 45,
     "metadata": {},
     "output_type": "execute_result"
    }
   ],
   "source": [
    "M_B = (0.05 + 1.55) / 2\n",
    "\n",
    "M_B"
   ]
  },
  {
   "cell_type": "markdown",
   "id": "7d54fe62",
   "metadata": {},
   "source": [
    "#### Ответ: правая граница величины примено равна 1.55, среднее значение примерно равно 0.8."
   ]
  },
  {
   "cell_type": "markdown",
   "id": "082b6a47",
   "metadata": {},
   "source": [
    "#### Задача 3.Непрерывная случайная величина X распределена нормально и задана плотностью распределения\n",
    "#### f(x) = (1 / (4 * sqrt(2*pi))) * (exp(-(x+2)**2) / 32).\n",
    "#### Найдите:\n",
    "#### а). M(X)\n",
    "#### б). D(X)\n",
    "#### в). std(X) (среднее квадратичное отклонение)"
   ]
  },
  {
   "cell_type": "markdown",
   "id": "6b6b75d5",
   "metadata": {},
   "source": [
    "Нормальное распределение — это распределение вероятностей непрерывной случайной величины $X$, плотность вероятности которой подчиняется формуле:\n",
    "\n",
    "$$f(x) = \\frac{1}{\\sigma \\sqrt{2 \\pi}} e ^ {- \\frac{(x - a)^2}{2 \\sigma^2}},$$\n",
    "\n",
    "где $a = M(X), \\; \\sigma^2 = D(X).$"
   ]
  },
  {
   "cell_type": "markdown",
   "id": "798b8d63",
   "metadata": {},
   "source": [
    "Плотность распределения по задаче:\n",
    "$f(x) = (1 / (4 * sqrt(2*pi))) * (exp(-(x+2)**2) / 32)$\n",
    "\n"
   ]
  },
  {
   "cell_type": "markdown",
   "id": "fba1f05a",
   "metadata": {},
   "source": [
    "Перепишем формулу наглядно:\n",
    "\n",
    "$$f(x) = \\frac{1}{4 \\sqrt{2 \\pi}} e ^ {- \\frac{(x + 2)^2}{32}}$$"
   ]
  },
  {
   "cell_type": "markdown",
   "id": "d7db1f48",
   "metadata": {},
   "source": [
    "#### а). M(X) = a = -2"
   ]
  },
  {
   "cell_type": "markdown",
   "id": "70e45ce7",
   "metadata": {},
   "source": [
    "#### б). D(X) = 32/2 = 16"
   ]
  },
  {
   "cell_type": "markdown",
   "id": "70757744",
   "metadata": {},
   "source": [
    "#### в). std(X) (среднее квадратичное отклонение) = 4"
   ]
  },
  {
   "cell_type": "markdown",
   "id": "96e13372",
   "metadata": {},
   "source": [
    "#### Задача 4. Рост взрослого населения города X имеет нормальное распределение.\n",
    "####  Причем, средний рост равен 174 см, а среднее квадратичное отклонение равно 8 см.\n",
    "####  Какова вероятность того, что случайным образом выбранный взрослый человек имеет рост:\n",
    "####  а). больше 182 см\n",
    "####  б). больше 190 см\n",
    "####  в). от 166 см до 190 см\n",
    "####  г). от 166 см до 182 см\n",
    "####  д). от 158 см до 190 см\n",
    "####  е). не выше 150 см или не ниже 190 см\n",
    "####  ё). не выше 150 см или не ниже 198 см\n",
    "####  ж). ниже 166 см."
   ]
  },
  {
   "cell_type": "markdown",
   "id": "c9b38152",
   "metadata": {},
   "source": [
    "####  а). больше 182 см"
   ]
  },
  {
   "cell_type": "code",
   "execution_count": 46,
   "id": "5833d688",
   "metadata": {},
   "outputs": [
    {
     "data": {
      "text/plain": [
       "0.15999999999999998"
      ]
     },
     "execution_count": 46,
     "metadata": {},
     "output_type": "execute_result"
    }
   ],
   "source": [
    "#По правилу трех сигм\n",
    "\n",
    "A = 1 - 0.5 - (0.68 / 2) \n",
    "A"
   ]
  },
  {
   "cell_type": "code",
   "execution_count": 47,
   "id": "f7fbecdd",
   "metadata": {},
   "outputs": [
    {
     "data": {
      "text/plain": [
       "0.1587"
      ]
     },
     "execution_count": 47,
     "metadata": {},
     "output_type": "execute_result"
    }
   ],
   "source": [
    "# возьмем с точностью 4 знака после запятой\n",
    "A = 1 - 0.5 - (0.6826 / 2) \n",
    "A"
   ]
  },
  {
   "cell_type": "code",
   "execution_count": 48,
   "id": "4aa9a6d7",
   "metadata": {},
   "outputs": [],
   "source": [
    "#Нормализация\n",
    "Z = (182 - 174) / 8\n",
    "P = 0.1587"
   ]
  },
  {
   "cell_type": "markdown",
   "id": "398dd7ac",
   "metadata": {},
   "source": [
    "####  б). больше 190 см"
   ]
  },
  {
   "cell_type": "code",
   "execution_count": 49,
   "id": "effb4a91",
   "metadata": {},
   "outputs": [
    {
     "data": {
      "text/plain": [
       "2.0"
      ]
     },
     "execution_count": 49,
     "metadata": {},
     "output_type": "execute_result"
    }
   ],
   "source": [
    "#Нормализация\n",
    "Z = (190 - 174) / 8\n",
    "Z"
   ]
  },
  {
   "cell_type": "code",
   "execution_count": 50,
   "id": "8d4e721e",
   "metadata": {},
   "outputs": [],
   "source": [
    "P = 0.0228"
   ]
  },
  {
   "cell_type": "markdown",
   "id": "f2ced442",
   "metadata": {},
   "source": [
    "####  в). от 166 см до 190 см"
   ]
  },
  {
   "cell_type": "code",
   "execution_count": 51,
   "id": "8dd79a96",
   "metadata": {},
   "outputs": [
    {
     "data": {
      "text/plain": [
       "81.72"
      ]
     },
     "execution_count": 51,
     "metadata": {},
     "output_type": "execute_result"
    }
   ],
   "source": [
    "# По правилу трех сигм от 166 см до 182 см лежит 68% наблюдений\n",
    "P_1 = 68 + ((95.44 - 68) / 2)\n",
    "P_1"
   ]
  },
  {
   "cell_type": "code",
   "execution_count": 52,
   "id": "1b0dfbc2",
   "metadata": {},
   "outputs": [
    {
     "data": {
      "text/plain": [
       "-1.0"
      ]
     },
     "execution_count": 52,
     "metadata": {},
     "output_type": "execute_result"
    }
   ],
   "source": [
    "# через нормализацию\n",
    "# найдем вероятность значения больше 166\n",
    "Z_166 = (166 - 174) / 8\n",
    "Z_166 "
   ]
  },
  {
   "cell_type": "code",
   "execution_count": 53,
   "id": "0bb75858",
   "metadata": {},
   "outputs": [
    {
     "data": {
      "text/plain": [
       "2.0"
      ]
     },
     "execution_count": 53,
     "metadata": {},
     "output_type": "execute_result"
    }
   ],
   "source": [
    "P_166 = 0.8413\n",
    "# найдем вероятность значения больше 190 см\n",
    "Z_190 = (190 - 174) / 8\n",
    "Z_190"
   ]
  },
  {
   "cell_type": "code",
   "execution_count": 54,
   "id": "dd088bc3",
   "metadata": {},
   "outputs": [
    {
     "data": {
      "text/plain": [
       "0.8185"
      ]
     },
     "execution_count": 54,
     "metadata": {},
     "output_type": "execute_result"
    }
   ],
   "source": [
    "P_190 = 0.0228\n",
    "P = P_166 - P_190\n",
    "P"
   ]
  },
  {
   "cell_type": "markdown",
   "id": "127328fe",
   "metadata": {},
   "source": [
    "#### г). от 166 см до 182 см\n",
    "\n",
    "По правилу трех сигм в данном промежутке лежит 68% наблюдений, так как 174 + 8 = 182, 174 - 8 = 166.\n"
   ]
  },
  {
   "cell_type": "markdown",
   "id": "2dd434ae",
   "metadata": {},
   "source": [
    "####  д). от 158 см до 190 см"
   ]
  },
  {
   "cell_type": "markdown",
   "id": "a2113f7b",
   "metadata": {},
   "source": [
    "По правилу трех сигм в данном промежутке лежит 95.4% наблюдений, так как 174 + 2*8 = 190, 174 - 8 = 158."
   ]
  },
  {
   "cell_type": "markdown",
   "id": "f9673c6f",
   "metadata": {},
   "source": [
    "####  е). не выше 150 см или не ниже 190 см"
   ]
  },
  {
   "cell_type": "code",
   "execution_count": 55,
   "id": "950defe8",
   "metadata": {},
   "outputs": [
    {
     "data": {
      "text/plain": [
       "-3.0"
      ]
     },
     "execution_count": 55,
     "metadata": {},
     "output_type": "execute_result"
    }
   ],
   "source": [
    "#меньше или равно 150 и больше или равно 190\n",
    "# Больше 190 - это мы считали в задании б) \n",
    "P_190 = 0.0228\n",
    "# найдем вероятность значения меньше или равно 150 \n",
    "Z_150 = (150 - 174) / 8\n",
    "Z_150"
   ]
  },
  {
   "cell_type": "code",
   "execution_count": 56,
   "id": "f5fa9108",
   "metadata": {},
   "outputs": [
    {
     "data": {
      "text/plain": [
       "0.0242"
      ]
     },
     "execution_count": 56,
     "metadata": {},
     "output_type": "execute_result"
    }
   ],
   "source": [
    "P_150 = 0.0014\n",
    "P_2 = P_190 + P_150\n",
    "P_2"
   ]
  },
  {
   "cell_type": "markdown",
   "id": "68612724",
   "metadata": {},
   "source": [
    "####  ё). не выше 150 см или не ниже 198 см"
   ]
  },
  {
   "cell_type": "code",
   "execution_count": 57,
   "id": "a0dec6fa",
   "metadata": {},
   "outputs": [
    {
     "data": {
      "text/plain": [
       "3.0"
      ]
     },
     "execution_count": 57,
     "metadata": {},
     "output_type": "execute_result"
    }
   ],
   "source": [
    "P_150 = 0.0014\n",
    "Z_198 = (198 - 174) / 8\n",
    "Z_198\n"
   ]
  },
  {
   "cell_type": "code",
   "execution_count": 58,
   "id": "11048bff",
   "metadata": {},
   "outputs": [
    {
     "data": {
      "text/plain": [
       "0.0028"
      ]
     },
     "execution_count": 58,
     "metadata": {},
     "output_type": "execute_result"
    }
   ],
   "source": [
    "P_198 = 0.0014\n",
    "\n",
    "P_3 = P_150 + P_198\n",
    "\n",
    "P_3"
   ]
  },
  {
   "cell_type": "markdown",
   "id": "396cd09a",
   "metadata": {},
   "source": [
    "####  ж). ниже 166 см."
   ]
  },
  {
   "cell_type": "code",
   "execution_count": 59,
   "id": "9a1ff882",
   "metadata": {},
   "outputs": [
    {
     "data": {
      "text/plain": [
       "0.1587"
      ]
     },
     "execution_count": 59,
     "metadata": {},
     "output_type": "execute_result"
    }
   ],
   "source": [
    "P_166 = 0.5 - 0.6826 / 2 \n",
    "P_166"
   ]
  },
  {
   "cell_type": "code",
   "execution_count": 60,
   "id": "90973212",
   "metadata": {},
   "outputs": [
    {
     "data": {
      "text/plain": [
       "-1.0"
      ]
     },
     "execution_count": 60,
     "metadata": {},
     "output_type": "execute_result"
    }
   ],
   "source": [
    "#через нормализацию \n",
    "\n",
    "Z_166 = (166 - 174) / 8\n",
    "Z_166"
   ]
  },
  {
   "cell_type": "code",
   "execution_count": 61,
   "id": "19eb01f5",
   "metadata": {},
   "outputs": [],
   "source": [
    "P_166 = 0.1587"
   ]
  },
  {
   "cell_type": "markdown",
   "id": "242969d2",
   "metadata": {},
   "source": [
    "#### Задача 5. На сколько сигм (средних квадратичных отклонений) отклоняется рост человека, равный 190 см, от\n",
    "#### математического ожидания роста в популяции, в которой M(X) = 178 см и D(X) = 25 кв.см?"
   ]
  },
  {
   "cell_type": "code",
   "execution_count": 62,
   "id": "6b2cdd03",
   "metadata": {},
   "outputs": [
    {
     "data": {
      "text/plain": [
       "2.4"
      ]
     },
     "execution_count": 62,
     "metadata": {},
     "output_type": "execute_result"
    }
   ],
   "source": [
    "Z = (190 - 178) / 5\n",
    "Z"
   ]
  },
  {
   "cell_type": "markdown",
   "id": "758756f3",
   "metadata": {},
   "source": [
    "#### Ответ: на 2.4 сигмы."
   ]
  }
 ],
 "metadata": {
  "kernelspec": {
   "display_name": "Python 3 (ipykernel)",
   "language": "python",
   "name": "python3"
  },
  "language_info": {
   "codemirror_mode": {
    "name": "ipython",
    "version": 3
   },
   "file_extension": ".py",
   "mimetype": "text/x-python",
   "name": "python",
   "nbconvert_exporter": "python",
   "pygments_lexer": "ipython3",
   "version": "3.9.7"
  }
 },
 "nbformat": 4,
 "nbformat_minor": 5
}
