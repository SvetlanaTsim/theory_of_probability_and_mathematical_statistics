{
 "cells": [
  {
   "cell_type": "markdown",
   "id": "a91df0cf",
   "metadata": {},
   "source": [
    "## **Урок 5. Проверка статистических гипотез. P-значения. Доверительные интервалы. A/B-тестирование**"
   ]
  },
  {
   "cell_type": "markdown",
   "id": "be94e29d",
   "metadata": {},
   "source": [
    "#### Задача 1. Известно, что генеральная совокупность распределена нормально \n",
    "#### со средним квадратическим отклонением, равным 16.\n",
    "#### Найти доверительный интервал для оценки математического ожидания a с надежностью 0.95,\n",
    "#### если выборочная средняя M = 80, а объем выборки n = 256."
   ]
  },
  {
   "cell_type": "code",
   "execution_count": 23,
   "id": "a6da648c",
   "metadata": {},
   "outputs": [],
   "source": [
    "import math\n",
    "import numpy as np"
   ]
  },
  {
   "cell_type": "markdown",
   "id": "e91907d7",
   "metadata": {},
   "source": [
    "Так как известна $\\sigma$ генеральной совокупности, воспользуемся формулой нахождения доверительного интервала:\n",
    "\n",
    "$$\\bar X \\pm Z_{\\alpha/2} * \\frac{\\sigma}{\\sqrt{n}}$$"
   ]
  },
  {
   "cell_type": "code",
   "execution_count": 24,
   "id": "4cf6c4e4",
   "metadata": {},
   "outputs": [
    {
     "data": {
      "text/plain": [
       "81.96"
      ]
     },
     "execution_count": 24,
     "metadata": {},
     "output_type": "execute_result"
    }
   ],
   "source": [
    "Z = 1.96\n",
    "sigma = 16\n",
    "n = 256\n",
    "X = 80\n",
    "\n",
    "a1 = X + Z * sigma / math.sqrt(n)\n",
    "a1"
   ]
  },
  {
   "cell_type": "code",
   "execution_count": 25,
   "id": "9aedffb8",
   "metadata": {},
   "outputs": [
    {
     "data": {
      "text/plain": [
       "78.04"
      ]
     },
     "execution_count": 25,
     "metadata": {},
     "output_type": "execute_result"
    }
   ],
   "source": [
    "a2 = X - Z * sigma / math.sqrt(n)\n",
    "a2"
   ]
  },
  {
   "cell_type": "markdown",
   "id": "ad95d1e3",
   "metadata": {},
   "source": [
    "#### Ответ: [78.04; 81.96]."
   ]
  },
  {
   "cell_type": "markdown",
   "id": "17c975b1",
   "metadata": {},
   "source": [
    "#### Задача 2. В результате 10 независимых измерений некоторой величины X, выполненных с одинаковой точностью,\n",
    "#### получены опытные данные:\n",
    "#### 6.9, 6.1, 6.2, 6.8, 7.5, 6.3, 6.4, 6.9, 6.7, 6.1\n",
    "#### Предполагая, что результаты измерений подчинены нормальному закону распределения вероятностей,\n",
    "#### оценить истинное значение величины X при помощи доверительного интервала, покрывающего это\n",
    "#### значение с доверительной вероятностью 0,95."
   ]
  },
  {
   "cell_type": "code",
   "execution_count": 26,
   "id": "b9a21350",
   "metadata": {},
   "outputs": [],
   "source": [
    "n = 10\n",
    "v = n - 1\n",
    "t = 2.262"
   ]
  },
  {
   "cell_type": "markdown",
   "id": "e3c92802",
   "metadata": {},
   "source": [
    "Так как неизвестна $\\sigma$ генеральной совокупности, воспользуемся формулой нахождения доверительного интервала (по критерию Стьюдента):\n",
    "\n",
    "$$\\bar X \\pm t_{\\alpha/2} * \\frac{\\sigma_n}{\\sqrt{n}}$$"
   ]
  },
  {
   "cell_type": "code",
   "execution_count": 27,
   "id": "6c8ce605",
   "metadata": {},
   "outputs": [],
   "source": [
    "data = np.array([6.9, 6.1, 6.2, 6.8, 7.5, 6.3, 6.4, 6.9, 6.7, 6.1])"
   ]
  },
  {
   "cell_type": "code",
   "execution_count": 28,
   "id": "63b38af7",
   "metadata": {},
   "outputs": [
    {
     "data": {
      "text/plain": [
       "6.590000000000001"
      ]
     },
     "execution_count": 28,
     "metadata": {},
     "output_type": "execute_result"
    }
   ],
   "source": [
    "X_mean = np.mean(data)\n",
    "X_mean"
   ]
  },
  {
   "cell_type": "code",
   "execution_count": 29,
   "id": "5602dc74",
   "metadata": {},
   "outputs": [
    {
     "data": {
      "text/plain": [
       "0.4508017549014448"
      ]
     },
     "execution_count": 29,
     "metadata": {},
     "output_type": "execute_result"
    }
   ],
   "source": [
    "sigma_data = np.std(data, ddof=1)\n",
    "sigma_data "
   ]
  },
  {
   "cell_type": "code",
   "execution_count": 30,
   "id": "f108bd45",
   "metadata": {},
   "outputs": [
    {
     "data": {
      "text/plain": [
       "6.912461744087575"
      ]
     },
     "execution_count": 30,
     "metadata": {},
     "output_type": "execute_result"
    }
   ],
   "source": [
    "a1 = X_mean + t * sigma_data / np.sqrt(n)\n",
    "a1"
   ]
  },
  {
   "cell_type": "code",
   "execution_count": 31,
   "id": "0434ec1c",
   "metadata": {},
   "outputs": [
    {
     "data": {
      "text/plain": [
       "6.267538255912426"
      ]
     },
     "execution_count": 31,
     "metadata": {},
     "output_type": "execute_result"
    }
   ],
   "source": [
    "a2 = X_mean - t * sigma_data / np.sqrt(n)\n",
    "a2"
   ]
  },
  {
   "cell_type": "markdown",
   "id": "d09a7522",
   "metadata": {},
   "source": [
    "#### Ответ: [6.267538255912426; 6.912461744087575]."
   ]
  },
  {
   "cell_type": "markdown",
   "id": "fe02fd70",
   "metadata": {},
   "source": [
    "#### Задача 3. Проведите тест гипотезы. Утверждается, что шарики для подшипников, изготовленные автоматическим\n",
    "####  станком, имеют средний диаметр 17 мм.\n",
    "####  Используя односторонний критерий с α=0,05, проверить эту гипотезу, если в выборке из n=100 шариков средний диаметр\n",
    "####  оказался равным 17.5 мм, а дисперсия известна и равна 4 кв. мм."
   ]
  },
  {
   "cell_type": "code",
   "execution_count": 32,
   "id": "aa4b0b7f",
   "metadata": {},
   "outputs": [],
   "source": [
    "m_0  = 17\n",
    "m = 17.5\n",
    "variarion = 4\n",
    "alpha = 0.05\n",
    "n = 100"
   ]
  },
  {
   "cell_type": "markdown",
   "id": "9de5ea55",
   "metadata": {},
   "source": [
    "$$H_0: \\mu = \\mu_0$$\n",
    "$$H_1: \\mu > \\mu_0$$"
   ]
  },
  {
   "attachments": {
    "image.png": {
     "image/png": "[encoded data removed]"
    }
   },
   "cell_type": "markdown",
   "id": "5dc800b9",
   "metadata": {},
   "source": [
    "Так как дисперсия нам известна, будем решать по формуле:\n",
    "![image.png](attachment:image.png)"
   ]
  },
  {
   "cell_type": "code",
   "execution_count": 33,
   "id": "28332fdd",
   "metadata": {},
   "outputs": [
    {
     "data": {
      "text/plain": [
       "0.025"
      ]
     },
     "execution_count": 33,
     "metadata": {},
     "output_type": "execute_result"
    }
   ],
   "source": [
    "Z_n = (m - m_0) / (np.sqrt(variarion ) * np.sqrt(n))\n",
    "Z_n"
   ]
  },
  {
   "cell_type": "code",
   "execution_count": 34,
   "id": "4c9847fe",
   "metadata": {},
   "outputs": [],
   "source": [
    "Z = 1.65"
   ]
  },
  {
   "cell_type": "code",
   "execution_count": 35,
   "id": "16123207",
   "metadata": {},
   "outputs": [
    {
     "data": {
      "text/plain": [
       "True"
      ]
     },
     "execution_count": 35,
     "metadata": {},
     "output_type": "execute_result"
    }
   ],
   "source": [
    "Z > Z_n"
   ]
  },
  {
   "cell_type": "markdown",
   "id": "5ebec857",
   "metadata": {},
   "source": [
    "#### Ответ:  шарики для подшипников, изготовленные автоматическим станком, имеют средний диаметр 17 мм. Гипотеза верна при α=0,05."
   ]
  },
  {
   "cell_type": "markdown",
   "id": "30da3d45",
   "metadata": {},
   "source": [
    "#### Задача 4. Проведите тест гипотезы. Продавец утверждает, что средний вес пачки печенья составляет 200 г.\n",
    "#### Из партии извлечена выборка из 10 пачек. Вес каждой пачки составляет:\n",
    "#### 202, 203, 199, 197, 195, 201, 200, 204, 194, 190.\n",
    "#### Известно, что их веса распределены нормально.\n",
    "#### Верно ли утверждение продавца, если учитывать, что доверительная вероятность равна 99%? (Провести двусторонний тест.)"
   ]
  },
  {
   "cell_type": "code",
   "execution_count": 36,
   "id": "b612568a",
   "metadata": {},
   "outputs": [
    {
     "data": {
      "text/plain": [
       "(198.5, 4.453463071962462)"
      ]
     },
     "execution_count": 36,
     "metadata": {},
     "output_type": "execute_result"
    }
   ],
   "source": [
    "m_0  = 200\n",
    "cookies = np.array([202, 203, 199, 197, 195, 201, 200, 204, 194, 190])\n",
    "alpha = 0.01\n",
    "n = 10\n",
    "m = np.mean(cookies)\n",
    "sigma_cookies= np.std(cookies, ddof=1)\n",
    "m, sigma_cookies"
   ]
  },
  {
   "attachments": {
    "image.png": {
     "image/png": "[encoded data removed]"
    }
   },
   "cell_type": "markdown",
   "id": "fe9e4e28",
   "metadata": {},
   "source": [
    "Так как дисперсия и среднее квадратичное отклонение неизветсны, будем решать по формуле:\n",
    "![image.png](attachment:image.png)"
   ]
  },
  {
   "cell_type": "markdown",
   "id": "04440dc2",
   "metadata": {},
   "source": [
    "$$H_0: \\mu = \\mu_0$$\n",
    "$$H_1: \\mu \\neq \\mu_0$$"
   ]
  },
  {
   "cell_type": "code",
   "execution_count": 37,
   "id": "cb5c67c8",
   "metadata": {},
   "outputs": [
    {
     "data": {
      "text/plain": [
       "-1.0651074037450896"
      ]
     },
     "execution_count": 37,
     "metadata": {},
     "output_type": "execute_result"
    }
   ],
   "source": [
    "#Найдем t_n\n",
    "t_n = (m - m_0) / (sigma_cookies / np.sqrt(n))\n",
    "t_n "
   ]
  },
  {
   "cell_type": "markdown",
   "id": "2697dec9",
   "metadata": {},
   "source": [
    "Найдем $t_{\\alpha/2}:$\n",
    "\n",
    "$\\frac{\\alpha}{2} = 0.005$ \n",
    "\n",
    "$df = 10 - 1 = 9$"
   ]
  },
  {
   "cell_type": "code",
   "execution_count": 38,
   "id": "25136615",
   "metadata": {},
   "outputs": [],
   "source": [
    "t_a_2 = 3.250"
   ]
  },
  {
   "cell_type": "code",
   "execution_count": 39,
   "id": "d85e4366",
   "metadata": {},
   "outputs": [
    {
     "data": {
      "text/plain": [
       "True"
      ]
     },
     "execution_count": 39,
     "metadata": {},
     "output_type": "execute_result"
    }
   ],
   "source": [
    "abs(t_n) < t_a_2 "
   ]
  },
  {
   "cell_type": "markdown",
   "id": "f1d66c95",
   "metadata": {},
   "source": [
    "#### Ответ:  средний вес пачки печенья составляет 200 г. Гипотеза верна при α=0,01."
   ]
  }
 ],
 "metadata": {
  "kernelspec": {
   "display_name": "Python 3 (ipykernel)",
   "language": "python",
   "name": "python3"
  },
  "language_info": {
   "codemirror_mode": {
    "name": "ipython",
    "version": 3
   },
   "file_extension": ".py",
   "mimetype": "text/x-python",
   "name": "python",
   "nbconvert_exporter": "python",
   "pygments_lexer": "ipython3",
   "version": "3.9.7"
  }
 },
 "nbformat": 4,
 "nbformat_minor": 5
}
