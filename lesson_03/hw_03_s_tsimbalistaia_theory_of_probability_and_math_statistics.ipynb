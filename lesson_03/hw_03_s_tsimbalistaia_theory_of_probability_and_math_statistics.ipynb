{
 "cells": [
  {
   "cell_type": "markdown",
   "id": "88b795e0",
   "metadata": {},
   "source": [
    "## **Урок 3. Описательная статистика. Качественные и количественные характеристики популяции. Графическое представление данных**"
   ]
  },
  {
   "cell_type": "markdown",
   "id": "c5a5a966",
   "metadata": {},
   "source": [
    "#### Задача 1. Даны значения зарплат из выборки выпускников: \n",
    "#### 100, 80, 75, 77, 89, 33, 45, 25, 65, 17, 30, 24, 57, 55, 70, 75, 65, 84, 90, 150. \n",
    "#### Посчитать (желательно без использования статистических методов наподобие std, var, mean) среднее арифметическое, среднее квадратичное отклонение, смещенную и несмещенную оценки дисперсий для данной выборки."
   ]
  },
  {
   "cell_type": "code",
   "execution_count": 84,
   "id": "ea68c3ef",
   "metadata": {},
   "outputs": [],
   "source": [
    "import numpy as np\n",
    "from math import factorial"
   ]
  },
  {
   "cell_type": "code",
   "execution_count": 85,
   "id": "db623f64",
   "metadata": {},
   "outputs": [
    {
     "data": {
      "text/plain": [
       "20"
      ]
     },
     "execution_count": 85,
     "metadata": {},
     "output_type": "execute_result"
    }
   ],
   "source": [
    "salaries = np.array([100, 80, 75, 77, 89, 33, 45, 25, 65, 17, 30, 24, 57, 55, 70, 75, 65, 84, 90, 150])\n",
    "salaries_len = len(salaries)\n",
    "salaries_len"
   ]
  },
  {
   "cell_type": "code",
   "execution_count": 86,
   "id": "6f0aa144",
   "metadata": {},
   "outputs": [
    {
     "data": {
      "text/plain": [
       "65.3"
      ]
     },
     "execution_count": 86,
     "metadata": {},
     "output_type": "execute_result"
    }
   ],
   "source": [
    "#среднее арифметическое\n",
    "arithmetic_mean = sum(salaries)/salaries_len\n",
    "arithmetic_mean "
   ]
  },
  {
   "cell_type": "code",
   "execution_count": 87,
   "id": "88e7e32f",
   "metadata": {},
   "outputs": [
    {
     "data": {
      "text/plain": [
       "65.3"
      ]
     },
     "execution_count": 87,
     "metadata": {},
     "output_type": "execute_result"
    }
   ],
   "source": [
    "#проверка\n",
    "arithmetic_mean_func = np.mean(salaries)\n",
    "arithmetic_mean_func"
   ]
  },
  {
   "cell_type": "markdown",
   "id": "c42d3a6d",
   "metadata": {},
   "source": [
    "Среднеквадратичное отклонение (смещенное):\n",
    "$$\\sigma = \\sqrt{\\frac{\\sum\\limits_{i=1}^{n} (x_i - \\overline{x})^2}{n}}$$"
   ]
  },
  {
   "cell_type": "code",
   "execution_count": 88,
   "id": "9e9ab411",
   "metadata": {},
   "outputs": [
    {
     "data": {
      "text/plain": [
       "array([1.20409e+03, 2.16090e+02, 9.40900e+01, 1.36890e+02, 5.61690e+02,\n",
       "       1.04329e+03, 4.12090e+02, 1.62409e+03, 9.00000e-02, 2.33289e+03,\n",
       "       1.24609e+03, 1.70569e+03, 6.88900e+01, 1.06090e+02, 2.20900e+01,\n",
       "       9.40900e+01, 9.00000e-02, 3.49690e+02, 6.10090e+02, 7.17409e+03])"
      ]
     },
     "execution_count": 88,
     "metadata": {},
     "output_type": "execute_result"
    }
   ],
   "source": [
    "salaries_std_array = np.array([(sal - arithmetic_mean) ** 2 for sal in salaries])\n",
    "salaries_std_array"
   ]
  },
  {
   "cell_type": "code",
   "execution_count": 89,
   "id": "f2487780",
   "metadata": {},
   "outputs": [
    {
     "data": {
      "text/plain": [
       "30.823854398825596"
      ]
     },
     "execution_count": 89,
     "metadata": {},
     "output_type": "execute_result"
    }
   ],
   "source": [
    "#среднее квадратичное отклонение (смещенное)\n",
    "salaries_std = np.sqrt((salaries_std_array).sum() / salaries_len)\n",
    "salaries_std"
   ]
  },
  {
   "cell_type": "code",
   "execution_count": 90,
   "id": "f47b1cf9",
   "metadata": {},
   "outputs": [
    {
     "data": {
      "text/plain": [
       "30.823854398825596"
      ]
     },
     "execution_count": 90,
     "metadata": {},
     "output_type": "execute_result"
    }
   ],
   "source": [
    "#среднее квадратичное отклонение (смещенное) - проверка\n",
    "sal_std_func = np.std(salaries)\n",
    "sal_std_func"
   ]
  },
  {
   "cell_type": "code",
   "execution_count": 91,
   "id": "0fe4c8a3",
   "metadata": {},
   "outputs": [
    {
     "data": {
      "text/plain": [
       "31.624607341019814"
      ]
     },
     "execution_count": 91,
     "metadata": {},
     "output_type": "execute_result"
    }
   ],
   "source": [
    "#среднее квадратичное отклонение (несмещенное)\n",
    "salaries_std_non_shifted = np.sqrt((salaries_std_array).sum() / (salaries_len - 1))\n",
    "salaries_std_non_shifted"
   ]
  },
  {
   "cell_type": "code",
   "execution_count": 92,
   "id": "42be2b8c",
   "metadata": {},
   "outputs": [
    {
     "data": {
      "text/plain": [
       "31.624607341019814"
      ]
     },
     "execution_count": 92,
     "metadata": {},
     "output_type": "execute_result"
    }
   ],
   "source": [
    "#среднее квадратичное отклонение (смещенное) - проверка\n",
    "sal_std_func_non_shifted = np.std(salaries, ddof=1)\n",
    "sal_std_func_non_shifted"
   ]
  },
  {
   "cell_type": "code",
   "execution_count": 93,
   "id": "9749e150",
   "metadata": {},
   "outputs": [
    {
     "data": {
      "text/plain": [
       "950.11"
      ]
     },
     "execution_count": 93,
     "metadata": {},
     "output_type": "execute_result"
    }
   ],
   "source": [
    "#смещенная дисперсия \n",
    "shifted_dispersion = salaries_std ** 2\n",
    "shifted_dispersion"
   ]
  },
  {
   "cell_type": "code",
   "execution_count": 94,
   "id": "4117cc76",
   "metadata": {},
   "outputs": [
    {
     "data": {
      "text/plain": [
       "950.11"
      ]
     },
     "execution_count": 94,
     "metadata": {},
     "output_type": "execute_result"
    }
   ],
   "source": [
    "#смещенная дисперсия - проверка\n",
    "shifted_dispersion_func = np.var(salaries, ddof=0)\n",
    "shifted_dispersion_func"
   ]
  },
  {
   "cell_type": "code",
   "execution_count": 95,
   "id": "51d0048a",
   "metadata": {},
   "outputs": [
    {
     "data": {
      "text/plain": [
       "1000.1157894736843"
      ]
     },
     "execution_count": 95,
     "metadata": {},
     "output_type": "execute_result"
    }
   ],
   "source": [
    "#несмещенная дисперсия \n",
    "non_shifted_dispersion = salaries_std_non_shifted ** 2\n",
    "non_shifted_dispersion"
   ]
  },
  {
   "cell_type": "code",
   "execution_count": 96,
   "id": "bd27bdcc",
   "metadata": {},
   "outputs": [
    {
     "data": {
      "text/plain": [
       "1000.1157894736842"
      ]
     },
     "execution_count": 96,
     "metadata": {},
     "output_type": "execute_result"
    }
   ],
   "source": [
    "#несмещенная дисперсия - проверка\n",
    "non_shifted_dispersion_func = np.var(salaries, ddof=1)\n",
    "non_shifted_dispersion_func"
   ]
  },
  {
   "cell_type": "markdown",
   "id": "f44b0301",
   "metadata": {},
   "source": [
    "#### Задача 2. В первом ящике находится 8 мячей, из которых 5 - белые. \n",
    "#### Во втором ящике - 12 мячей, из которых 5 белых. \n",
    "#### Из первого ящика вытаскивают случайным образом два мяча, из второго - 4. \n",
    "#### Какова вероятность того, что 3 мяча белые?"
   ]
  },
  {
   "cell_type": "code",
   "execution_count": 97,
   "id": "f2100fc7",
   "metadata": {},
   "outputs": [],
   "source": [
    "#Всего три альтернативных варианта:\n",
    "#1. Из первой 2 белых, из второй 1 белый, 3 черных\n",
    "#2. Из первой 1 белый, 1 черный, из второй 2 белых, 2 черных\n",
    "#3. Из первой 0 белых, 2 черных, из второй 3 белых, 1 черный\n",
    "# Вероятности всех трех варинатов складываются по формуле полной вероятности.\n",
    "\n",
    "def combinations(n, k):\n",
    "    return int(factorial(n) / (factorial(k) * factorial(n - k)))"
   ]
  },
  {
   "cell_type": "code",
   "execution_count": 98,
   "id": "1be31dbb",
   "metadata": {},
   "outputs": [
    {
     "data": {
      "text/plain": [
       "0.12626262626262627"
      ]
     },
     "execution_count": 98,
     "metadata": {},
     "output_type": "execute_result"
    }
   ],
   "source": [
    "#1 Вариант\n",
    "#1. Из первой 2 белых, из второй 1 белый, 3 черных\n",
    "\n",
    "P1_var_1 = combinations(5, 2) / combinations(8, 2)\n",
    "\n",
    "P2_var_1 = combinations(5, 1) * combinations(7, 3) / combinations(12, 4)\n",
    "\n",
    "P_var_1 = P1_var_1 * P2_var_1\n",
    "\n",
    "P_var_1"
   ]
  },
  {
   "cell_type": "code",
   "execution_count": 99,
   "id": "99a2b6c8",
   "metadata": {},
   "outputs": [
    {
     "data": {
      "text/plain": [
       "0.22727272727272727"
      ]
     },
     "execution_count": 99,
     "metadata": {},
     "output_type": "execute_result"
    }
   ],
   "source": [
    "#2 Вариант\n",
    "#2. Из первой 1 белый, 1 черный, из второй 2 белых, 2 черных\n",
    "\n",
    "P1_var_2 = combinations(5, 1) * combinations(3, 1) / combinations(8, 2)\n",
    "\n",
    "P2_var_2 = combinations(5, 2) * combinations(7, 2) / combinations(12, 4)\n",
    "\n",
    "P_var_2 = P1_var_2 * P2_var_2\n",
    "\n",
    "P_var_2"
   ]
  },
  {
   "cell_type": "code",
   "execution_count": 100,
   "id": "9c570e30",
   "metadata": {},
   "outputs": [
    {
     "data": {
      "text/plain": [
       "0.01515151515151515"
      ]
     },
     "execution_count": 100,
     "metadata": {},
     "output_type": "execute_result"
    }
   ],
   "source": [
    "#3 Вариант\n",
    "#3. Из первой 0 белых, 2 черных, из второй 3 белых, 1 черный\n",
    "\n",
    "P1_var_3 = combinations(3, 2) / combinations(8, 2)\n",
    "\n",
    "P2_var_3 = combinations(5, 3) * combinations(7, 1) / combinations(12, 4)\n",
    "\n",
    "P_var_3 = P1_var_3 * P2_var_3\n",
    "\n",
    "P_var_3"
   ]
  },
  {
   "cell_type": "code",
   "execution_count": 101,
   "id": "86c3e350",
   "metadata": {},
   "outputs": [
    {
     "data": {
      "text/plain": [
       "0.3686868686868687"
      ]
     },
     "execution_count": 101,
     "metadata": {},
     "output_type": "execute_result"
    }
   ],
   "source": [
    "P_task_2 = P_var_1 + P_var_2 + P_var_3\n",
    "P_task_2"
   ]
  },
  {
   "cell_type": "markdown",
   "id": "1cc13c67",
   "metadata": {},
   "source": [
    "#### Ответ: вероятность того, что 3 мяча белые - 0.3686868686868687 или 36,9%"
   ]
  },
  {
   "cell_type": "markdown",
   "id": "bdfdbd64",
   "metadata": {},
   "source": [
    "#### Задача 3.  На соревновании по биатлону один из трех спортсменов стреляет и попадает в мишень. \n",
    "#### Вероятность попадания для первого спортсмена равна 0.9, для второго — 0.8, для третьего — 0.6. \n",
    "#### Найти вероятность того, что выстрел произведен:\n",
    "#### a). первым спортсменом б). вторым спортсменом в). третьим спортсменом."
   ]
  },
  {
   "cell_type": "markdown",
   "id": "b243a3f8",
   "metadata": {},
   "source": [
    "Так как событие - попадание стрелка в мишень уже произошло, будем использовать формулу Байеса:\n",
    "\n",
    "$$P(B\\:|\\:A) = \\frac{P(B) \\cdot P(A\\:|\\:B)}{P(A)}$$"
   ]
  },
  {
   "cell_type": "markdown",
   "id": "361adb82",
   "metadata": {},
   "source": [
    "A - попадание в мишень\n",
    "\n",
    "P(B1) = 1/3 - вероятность, что стрелять будет первый спортсмен\n",
    "\n",
    "P(B2) = 1/3 - вероятность, что стрелять будет второй спортсмен\n",
    "\n",
    "P(B3) = 1/3 - вероятность, что стрелять будет третий спортсмен\n",
    "\n",
    "P(A|B1) = 0,9 - вероятность попадания у первого спортсмена\n",
    "\n",
    "P(A|B2) = 0,8 - вероятность попадания у второго спортсмена\n",
    "\n",
    "P(A|B3) = 0,6 - вероятность попадания у третьего спортсмена\n"
   ]
  },
  {
   "cell_type": "code",
   "execution_count": 102,
   "id": "7f29fcb7",
   "metadata": {},
   "outputs": [
    {
     "data": {
      "text/plain": [
       "0.7666666666666666"
      ]
     },
     "execution_count": 102,
     "metadata": {},
     "output_type": "execute_result"
    }
   ],
   "source": [
    "# общая вероятность попадания\n",
    "P_A = (1/3) * 0.9 + (1/3) * 0.8 + (1/3) * 0.6\n",
    "P_A"
   ]
  },
  {
   "cell_type": "code",
   "execution_count": 103,
   "id": "0f57378b",
   "metadata": {},
   "outputs": [
    {
     "data": {
      "text/plain": [
       "0.391304347826087"
      ]
     },
     "execution_count": 103,
     "metadata": {},
     "output_type": "execute_result"
    }
   ],
   "source": [
    "# a. Найти вероятность того, что выстрел произведен первым спортсменом\n",
    "P_B1_A  = ((1/3) * 0.9) / P_A\n",
    "P_B1_A"
   ]
  },
  {
   "cell_type": "code",
   "execution_count": 104,
   "id": "5795a248",
   "metadata": {},
   "outputs": [
    {
     "data": {
      "text/plain": [
       "0.3478260869565218"
      ]
     },
     "execution_count": 104,
     "metadata": {},
     "output_type": "execute_result"
    }
   ],
   "source": [
    "# б. Найти вероятность того, что выстрел произведен вторым спортсменом\n",
    "P_B2_A  = ((1/3) * 0.8) / P_A\n",
    "P_B2_A"
   ]
  },
  {
   "cell_type": "code",
   "execution_count": 105,
   "id": "f9e41f96",
   "metadata": {},
   "outputs": [
    {
     "data": {
      "text/plain": [
       "0.2608695652173913"
      ]
     },
     "execution_count": 105,
     "metadata": {},
     "output_type": "execute_result"
    }
   ],
   "source": [
    "# в. Найти вероятность того, что выстрел произведен третьим спортсменом\n",
    "P_B3_A  = ((1/3) * 0.6) / P_A\n",
    "P_B3_A"
   ]
  },
  {
   "cell_type": "markdown",
   "id": "d4ab6329",
   "metadata": {},
   "source": [
    "#### Ответ: вероятность того, что выстрел произведен: \n",
    "#### a). первым спортсменом  - 0.391304347826087 или 39%,\n",
    "#### б). вторым спортсменом - 0.3478260869565218 или 34,8%,\n",
    "#### в). третьим спортсменом - 0.2608695652173913 или 26%. "
   ]
  },
  {
   "cell_type": "markdown",
   "id": "1406ea18",
   "metadata": {},
   "source": [
    "#### Задача 4.  В университет на факультеты A и B поступило равное количество студентов, \n",
    "#### а на факультет C студентов поступило столько же, сколько на A и B вместе. \n",
    "#### Вероятность того, что студент факультета A сдаст первую сессию, равна 0.8. \n",
    "#### Для студента факультета B эта вероятность равна 0.7, а для студента факультета C - 0.9. \n",
    "#### Студент сдал первую сессию. Какова вероятность, что он учится:\n",
    "#### a). на факультете A б). на факультете B в). на факультете C?"
   ]
  },
  {
   "cell_type": "markdown",
   "id": "2b890b11",
   "metadata": {},
   "source": [
    "Так как событие - сдача сессии студентом уже произошло, будем использовать формулу Байеса:\n",
    "\n",
    "$$P(B\\:|\\:A) = \\frac{P(B) \\cdot P(A\\:|\\:B)}{P(A)}$$\n",
    "\n",
    "A - сдача сессии студентом"
   ]
  },
  {
   "cell_type": "code",
   "execution_count": 106,
   "id": "b4c8f879",
   "metadata": {},
   "outputs": [],
   "source": [
    "P_B1 = 1/4 #вероятность, что студент учится на факультете A\n",
    "\n",
    "P_B2 = 1/4 #вероятность, что студент учится на факультете B\n",
    "\n",
    "P_B3 = 1/2 #вероятность, что студент учится на факультете C\n",
    "\n",
    "P_A_B1 = 0.8 #вероятность сдачи сессии студента факультета A\n",
    "\n",
    "P_A_B2 = 0.7 #вероятность сдачи сессии студента факультета B\n",
    "\n",
    "P_A_B3 = 0.9 #вероятность сдачи сессии студента факультета C"
   ]
  },
  {
   "cell_type": "code",
   "execution_count": 107,
   "id": "ba64126f",
   "metadata": {},
   "outputs": [
    {
     "data": {
      "text/plain": [
       "0.825"
      ]
     },
     "execution_count": 107,
     "metadata": {},
     "output_type": "execute_result"
    }
   ],
   "source": [
    "# общая вероятность сдачи сессии для студентов всех факультетов\n",
    "\n",
    "P_A = P_B1 * P_A_B1 + P_B2 * P_A_B2 + P_B3 * P_A_B3\n",
    "\n",
    "P_A"
   ]
  },
  {
   "cell_type": "code",
   "execution_count": 108,
   "id": "f70b97a3",
   "metadata": {},
   "outputs": [
    {
     "data": {
      "text/plain": [
       "0.24242424242424246"
      ]
     },
     "execution_count": 108,
     "metadata": {},
     "output_type": "execute_result"
    }
   ],
   "source": [
    "#a).какая вероятность, что студент учится на на факультете A \n",
    "\n",
    "P_B1_A = (P_B1 * P_A_B1) / P_A\n",
    "\n",
    "P_B1_A"
   ]
  },
  {
   "cell_type": "code",
   "execution_count": 109,
   "id": "7f9184fa",
   "metadata": {},
   "outputs": [
    {
     "data": {
      "text/plain": [
       "0.21212121212121213"
      ]
     },
     "execution_count": 109,
     "metadata": {},
     "output_type": "execute_result"
    }
   ],
   "source": [
    "#б).какая вероятность, что студент учится на на факультете B\n",
    "\n",
    "P_B2_A = (P_B2 * P_A_B2) / P_A\n",
    "\n",
    "P_B2_A"
   ]
  },
  {
   "cell_type": "code",
   "execution_count": 110,
   "id": "15fb6d65",
   "metadata": {},
   "outputs": [
    {
     "data": {
      "text/plain": [
       "0.5454545454545455"
      ]
     },
     "execution_count": 110,
     "metadata": {},
     "output_type": "execute_result"
    }
   ],
   "source": [
    "#в).какая вероятность, что студент учится на на факультете C\n",
    "\n",
    "P_B3_A = (P_B3 * P_A_B3) / P_A\n",
    "\n",
    "P_B3_A"
   ]
  },
  {
   "cell_type": "markdown",
   "id": "601dca5e",
   "metadata": {},
   "source": [
    "#### Ответ: вероятность того, что студент учится:\n",
    "#### a). на факультете A - 0.24242424242424246 или 24,2%,\n",
    "#### б). на факультете B - 0.21212121212121213 или 21,2%,\n",
    "#### в). на факультете C- 0.5454545454545455 или 54,5%."
   ]
  },
  {
   "cell_type": "markdown",
   "id": "27a8ddac",
   "metadata": {},
   "source": [
    "#### Задача 5.  Устройство состоит из трех деталей.\n",
    "#### Для первой детали вероятность выйти из строя в первый месяц равна 0.1, \n",
    "#### для второй - 0.2, для третьей - 0.25. \n",
    "#### Какова вероятность того, что в первый месяц выйдут из строя: \n",
    "#### а). все детали \n",
    "#### б). только две детали \n",
    "#### в). хотя бы одна деталь \n",
    "#### г). от одной до двух деталей?"
   ]
  },
  {
   "cell_type": "code",
   "execution_count": 111,
   "id": "3b270b8d",
   "metadata": {},
   "outputs": [
    {
     "data": {
      "text/plain": [
       "0.005000000000000001"
      ]
     },
     "execution_count": 111,
     "metadata": {},
     "output_type": "execute_result"
    }
   ],
   "source": [
    "#а).вероятность, что из строя выйдут все детали \n",
    "\n",
    "P_all = 0.1 * 0.2 * 0.25\n",
    "P_all"
   ]
  },
  {
   "cell_type": "code",
   "execution_count": 112,
   "id": "17bcd580",
   "metadata": {},
   "outputs": [
    {
     "data": {
      "text/plain": [
       "0.045000000000000005"
      ]
     },
     "execution_count": 112,
     "metadata": {},
     "output_type": "execute_result"
    }
   ],
   "source": [
    "#б). только две детали \n",
    "P_B1 = 0.1\n",
    "P_B2 = 0.2\n",
    "P_B3 = 0.25\n",
    "\n",
    "#1 вариант (первая деталь цела, остальные сломались)\n",
    "var_1 = (1 - P_B1) * P_B2 * P_B3 \n",
    "var_1 "
   ]
  },
  {
   "cell_type": "code",
   "execution_count": 113,
   "id": "a9341caf",
   "metadata": {},
   "outputs": [
    {
     "data": {
      "text/plain": [
       "0.020000000000000004"
      ]
     },
     "execution_count": 113,
     "metadata": {},
     "output_type": "execute_result"
    }
   ],
   "source": [
    "#2 вариант (вторая деталь цела, остальные сломались)\n",
    "var_2 = (1 - P_B2) * P_B1 * P_B3 \n",
    "var_2"
   ]
  },
  {
   "cell_type": "code",
   "execution_count": 114,
   "id": "ff6c0f25",
   "metadata": {},
   "outputs": [
    {
     "data": {
      "text/plain": [
       "0.015000000000000003"
      ]
     },
     "execution_count": 114,
     "metadata": {},
     "output_type": "execute_result"
    }
   ],
   "source": [
    "#3 вариант (третья деталь цела, остальные сломались)\n",
    "var_3 = (1 - P_B3) * P_B1 * P_B2\n",
    "var_3"
   ]
  },
  {
   "cell_type": "code",
   "execution_count": 115,
   "id": "b903cd7d",
   "metadata": {},
   "outputs": [
    {
     "data": {
      "text/plain": [
       "0.08"
      ]
     },
     "execution_count": 115,
     "metadata": {},
     "output_type": "execute_result"
    }
   ],
   "source": [
    "P_2_pieces = var_1 + var_2 + var_3\n",
    "\n",
    "P_2_pieces"
   ]
  },
  {
   "cell_type": "code",
   "execution_count": 116,
   "id": "e42414e9",
   "metadata": {},
   "outputs": [
    {
     "data": {
      "text/plain": [
       "0.45999999999999996"
      ]
     },
     "execution_count": 116,
     "metadata": {},
     "output_type": "execute_result"
    }
   ],
   "source": [
    "#в). хотя бы одна деталь \n",
    "# 1 - вероятность, что ни одна деталь не сломалась.\n",
    "P_none =  (1 - P_B3) * (1 - P_B1) * (1 - P_B2) \n",
    "\n",
    "P_at_least_one = 1 - P_none\n",
    "P_at_least_one"
   ]
  },
  {
   "cell_type": "code",
   "execution_count": 117,
   "id": "d8dca4e2",
   "metadata": {},
   "outputs": [
    {
     "data": {
      "text/plain": [
       "0.06000000000000001"
      ]
     },
     "execution_count": 117,
     "metadata": {},
     "output_type": "execute_result"
    }
   ],
   "source": [
    "# г). от одной до двух деталей?\n",
    "# или одна или две\n",
    "# найдем вероятность, что сломается одна деталь. \n",
    "\n",
    "#1 вариант (первая сломалась, остальные целы)\n",
    "var_1_1 = P_B1 * (1 - P_B2) * (1 - P_B3) \n",
    "var_1_1 "
   ]
  },
  {
   "cell_type": "code",
   "execution_count": 118,
   "id": "99724d1e",
   "metadata": {},
   "outputs": [
    {
     "data": {
      "text/plain": [
       "0.135"
      ]
     },
     "execution_count": 118,
     "metadata": {},
     "output_type": "execute_result"
    }
   ],
   "source": [
    "#2 вариант (вторая сломалась, остальные целы)\n",
    "var_2_1 = P_B2 * (1 - P_B1) * (1 - P_B3) \n",
    "var_2_1 "
   ]
  },
  {
   "cell_type": "code",
   "execution_count": 119,
   "id": "a4a7d8ec",
   "metadata": {},
   "outputs": [
    {
     "data": {
      "text/plain": [
       "0.18000000000000002"
      ]
     },
     "execution_count": 119,
     "metadata": {},
     "output_type": "execute_result"
    }
   ],
   "source": [
    "#3 вариант (третья сломалась, остальные целы)\n",
    "var_3_1 = P_B3 * (1 - P_B1) * (1 - P_B2) \n",
    "var_3_1 "
   ]
  },
  {
   "cell_type": "code",
   "execution_count": 120,
   "id": "5ea489ca",
   "metadata": {},
   "outputs": [
    {
     "data": {
      "text/plain": [
       "0.375"
      ]
     },
     "execution_count": 120,
     "metadata": {},
     "output_type": "execute_result"
    }
   ],
   "source": [
    "P_1_piece = var_1_1 + var_2_1 + var_3_1\n",
    "\n",
    "P_1_piece"
   ]
  },
  {
   "cell_type": "code",
   "execution_count": 121,
   "id": "57bff874",
   "metadata": {},
   "outputs": [
    {
     "data": {
      "text/plain": [
       "0.455"
      ]
     },
     "execution_count": 121,
     "metadata": {},
     "output_type": "execute_result"
    }
   ],
   "source": [
    "P_1_or_2 = P_1_piece + P_2_pieces\n",
    "P_1_or_2"
   ]
  },
  {
   "cell_type": "markdown",
   "id": "8ddf738b",
   "metadata": {},
   "source": [
    "#### Ответ: вероятность того, что в первый месяц выйдут из строя: \n",
    "#### а). все детали - 0.005000000000000001 или 0,5%,\n",
    "#### б). только две детали - 0.08 или 8%,\n",
    "#### в). хотя бы одна деталь - 0.45999999999999996 или 46%,\n",
    "#### г). от одной до двух деталей - 0.455 или 45,5%. "
   ]
  }
 ],
 "metadata": {
  "kernelspec": {
   "display_name": "Python 3 (ipykernel)",
   "language": "python",
   "name": "python3"
  },
  "language_info": {
   "codemirror_mode": {
    "name": "ipython",
    "version": 3
   },
   "file_extension": ".py",
   "mimetype": "text/x-python",
   "name": "python",
   "nbconvert_exporter": "python",
   "pygments_lexer": "ipython3",
   "version": "3.9.7"
  }
 },
 "nbformat": 4,
 "nbformat_minor": 5
}
