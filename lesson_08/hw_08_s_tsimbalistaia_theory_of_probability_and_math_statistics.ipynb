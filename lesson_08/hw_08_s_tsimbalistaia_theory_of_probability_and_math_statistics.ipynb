{
 "cells": [
  {
   "cell_type": "markdown",
   "id": "d3077f8a",
   "metadata": {},
   "source": [
    "## **Урок 8. Дисперсионный анализ. Логистическая регрессия**\n"
   ]
  },
  {
   "cell_type": "markdown",
   "id": "3e12e37f",
   "metadata": {},
   "source": [
    "#### Задача 1. Провести дисперсионный анализ для определения того, есть ли различия среднего роста среди взрослых \n",
    "#### футболистов, хоккеистов и штангистов. Даны значения роста в трех группах случайно выбранных спортсменов: \n",
    "#### Футболисты: 173, 175, 180, 178, 177, 185, 183, 182. Хоккеисты: 177, 179, 180, 188, 177, 172, 171, 184, 180.\n",
    "####  Штангисты: 172, 173, 169, 177, 166, 180, 178, 177, 172, 166, 170."
   ]
  },
  {
   "cell_type": "code",
   "execution_count": 39,
   "id": "066eb78e",
   "metadata": {},
   "outputs": [],
   "source": [
    "import numpy as np\n",
    "from scipy import stats"
   ]
  },
  {
   "cell_type": "code",
   "execution_count": 40,
   "id": "d7a86505",
   "metadata": {},
   "outputs": [],
   "source": [
    "#stats.f_oneway?"
   ]
  },
  {
   "cell_type": "code",
   "execution_count": 41,
   "id": "d0d4122d",
   "metadata": {},
   "outputs": [],
   "source": [
    "#футболисты\n",
    "y1 = np.array([173, 175, 180, 178, 177, 185, 183, 182])"
   ]
  },
  {
   "cell_type": "code",
   "execution_count": 42,
   "id": "345d74f6",
   "metadata": {},
   "outputs": [],
   "source": [
    "#xоккеисты\n",
    "y2 = np.array([177, 179, 180, 188, 177, 172, 171, 184, 180])"
   ]
  },
  {
   "cell_type": "code",
   "execution_count": 43,
   "id": "ca7adbf9",
   "metadata": {},
   "outputs": [],
   "source": [
    "#штангисты\n",
    "y3 = np.array([172, 173, 169, 177, 166, 180, 178, 177, 172, 166, 170])"
   ]
  },
  {
   "cell_type": "markdown",
   "id": "288a7261",
   "metadata": {},
   "source": [
    "$$H_0: \\mu1 = \\mu2 = \\mu3$$\n",
    "$$H_1: \\mu1  \\neq  \\mu2 \\neq  \\mu3$$\n",
    "$$ \\alpha = 5\\%$$"
   ]
  },
  {
   "cell_type": "code",
   "execution_count": 44,
   "id": "7004c283",
   "metadata": {},
   "outputs": [
    {
     "data": {
      "text/plain": [
       "F_onewayResult(statistic=5.500053450812596, pvalue=0.010482206918698694)"
      ]
     },
     "execution_count": 44,
     "metadata": {},
     "output_type": "execute_result"
    }
   ],
   "source": [
    "stats.f_oneway(y1, y2, y3)"
   ]
  },
  {
   "cell_type": "code",
   "execution_count": 45,
   "id": "30a89559",
   "metadata": {},
   "outputs": [
    {
     "data": {
      "text/plain": [
       "2"
      ]
     },
     "execution_count": 45,
     "metadata": {},
     "output_type": "execute_result"
    }
   ],
   "source": [
    "#Так как p-value получилось 0.010482206918698694 < 0.05, то делаем вывод, что верна H1 гипотеза.\n",
    "#Проверим с помощью табличного критерия Фишера. \n",
    "#Найдем степени свободы\n",
    "#𝑑𝑓_1 = р − 1\n",
    "#𝑑𝑓_2 = 𝑛 − р\n",
    "df_1 = 3 - 1\n",
    "df_1"
   ]
  },
  {
   "cell_type": "code",
   "execution_count": 46,
   "id": "afd1a62e",
   "metadata": {},
   "outputs": [
    {
     "data": {
      "text/plain": [
       "25"
      ]
     },
     "execution_count": 46,
     "metadata": {},
     "output_type": "execute_result"
    }
   ],
   "source": [
    "#𝑑𝑓_2 = 𝑛 − р\n",
    "df_2 = (len(y1) + len(y2) + len(y3)) - 3\n",
    "df_2"
   ]
  },
  {
   "cell_type": "markdown",
   "id": "039a1d9b",
   "metadata": {},
   "source": [
    "[Значение критерия Фишера пр уровне значимости Р=0,05](https://www.geokniga.org/geowiki/%D0%B7%D0%BD%D0%B0%D1%87%D0%B5%D0%BD%D0%B8%D0%B5-%D0%BA%D1%80%D0%B8%D1%82%D0%B5%D1%80%D0%B8%D1%8F-%D1%84%D0%B8%D1%88%D0%B5%D1%80%D0%B0)"
   ]
  },
  {
   "cell_type": "code",
   "execution_count": 47,
   "id": "afcb7cbc",
   "metadata": {},
   "outputs": [
    {
     "data": {
      "text/plain": [
       "True"
      ]
     },
     "execution_count": 47,
     "metadata": {},
     "output_type": "execute_result"
    }
   ],
   "source": [
    "#Найдем табличный критерий Фишера\n",
    "F_n = 5.500053450812596\n",
    "F_t = 3.38\n",
    "F_n > F_t"
   ]
  },
  {
   "cell_type": "markdown",
   "id": "1879cd2a",
   "metadata": {},
   "source": [
    "#### Ответ: гипотеза H1 верна при α=0,05. Обнаржены различия среднего роста среди взрослых футболистов, хоккеистов и штангистов (различие между выборками существено). "
   ]
  }
 ],
 "metadata": {
  "kernelspec": {
   "display_name": "Python 3 (ipykernel)",
   "language": "python",
   "name": "python3"
  },
  "language_info": {
   "codemirror_mode": {
    "name": "ipython",
    "version": 3
   },
   "file_extension": ".py",
   "mimetype": "text/x-python",
   "name": "python",
   "nbconvert_exporter": "python",
   "pygments_lexer": "ipython3",
   "version": "3.9.7"
  }
 },
 "nbformat": 4,
 "nbformat_minor": 5
}
