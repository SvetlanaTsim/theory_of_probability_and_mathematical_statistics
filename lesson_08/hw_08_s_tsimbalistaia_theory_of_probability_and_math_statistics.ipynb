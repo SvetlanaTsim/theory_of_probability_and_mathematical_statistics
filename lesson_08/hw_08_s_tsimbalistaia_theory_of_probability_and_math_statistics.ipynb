{
 "cells": [
  {
   "cell_type": "markdown",
   "id": "0e403ab7",
   "metadata": {},
   "source": [
    "## **Урок 8. Дисперсионный анализ. Логистическая регрессия**\n"
   ]
  },
  {
   "cell_type": "markdown",
   "id": "236db28e",
   "metadata": {},
   "source": [
    "#### Задача 1. Провести дисперсионный анализ для определения того, есть ли различия среднего роста среди взрослых \n",
    "#### футболистов, хоккеистов и штангистов. Даны значения роста в трех группах случайно выбранных спортсменов: \n",
    "#### Футболисты: 173, 175, 180, 178, 177, 185, 183, 182. Хоккеисты: 177, 179, 180, 188, 177, 172, 171, 184, 180.\n",
    "####  Штангисты: 172, 173, 169, 177, 166, 180, 178, 177, 172, 166, 170."
   ]
  },
  {
   "cell_type": "code",
   "execution_count": 48,
   "id": "a1b93ac0",
   "metadata": {},
   "outputs": [],
   "source": [
    "import numpy as np\n",
    "from scipy import stats"
   ]
  },
  {
   "cell_type": "code",
   "execution_count": 49,
   "id": "0f4f7836",
   "metadata": {},
   "outputs": [],
   "source": [
    "#stats.f_oneway?"
   ]
  },
  {
   "cell_type": "code",
   "execution_count": 50,
   "id": "fecc3fc1",
   "metadata": {},
   "outputs": [],
   "source": [
    "#футболисты\n",
    "y1 = np.array([173, 175, 180, 178, 177, 185, 183, 182])"
   ]
  },
  {
   "cell_type": "code",
   "execution_count": 51,
   "id": "09d384e1",
   "metadata": {},
   "outputs": [],
   "source": [
    "#xоккеисты\n",
    "y2 = np.array([177, 179, 180, 188, 177, 172, 171, 184, 180])"
   ]
  },
  {
   "cell_type": "code",
   "execution_count": 52,
   "id": "98dab7fb",
   "metadata": {},
   "outputs": [],
   "source": [
    "#штангисты\n",
    "y3 = np.array([172, 173, 169, 177, 166, 180, 178, 177, 172, 166, 170])"
   ]
  },
  {
   "cell_type": "markdown",
   "id": "500a78f4",
   "metadata": {},
   "source": [
    "$$H_0: \\mu1 = \\mu2 = \\mu3$$\n",
    "$$H_1: \\mu1  \\neq  \\mu2; \\:  \\mu1  \\neq  \\mu3 \\:  \\mu2  \\neq  \\mu3 $$\n",
    "$$ \\alpha = 5\\%$$"
   ]
  },
  {
   "cell_type": "code",
   "execution_count": 53,
   "id": "bc52addd",
   "metadata": {},
   "outputs": [
    {
     "data": {
      "text/plain": [
       "F_onewayResult(statistic=5.500053450812596, pvalue=0.010482206918698694)"
      ]
     },
     "execution_count": 53,
     "metadata": {},
     "output_type": "execute_result"
    }
   ],
   "source": [
    "stats.f_oneway(y1, y2, y3)"
   ]
  },
  {
   "cell_type": "code",
   "execution_count": 54,
   "id": "7e8f056c",
   "metadata": {},
   "outputs": [
    {
     "data": {
      "text/plain": [
       "2"
      ]
     },
     "execution_count": 54,
     "metadata": {},
     "output_type": "execute_result"
    }
   ],
   "source": [
    "#Так как p-value получилось 0.010482206918698694 < 0.05, то делаем вывод, что верна H1 гипотеза.\n",
    "#Проверим с помощью табличного критерия Фишера. \n",
    "#Найдем степени свободы\n",
    "#𝑑𝑓_1 = р − 1\n",
    "#𝑑𝑓_2 = 𝑛 − р\n",
    "df_1 = 3 - 1\n",
    "df_1"
   ]
  },
  {
   "cell_type": "code",
   "execution_count": 55,
   "id": "9f5f54e5",
   "metadata": {},
   "outputs": [
    {
     "data": {
      "text/plain": [
       "25"
      ]
     },
     "execution_count": 55,
     "metadata": {},
     "output_type": "execute_result"
    }
   ],
   "source": [
    "#𝑑𝑓_2 = 𝑛 − р\n",
    "df_2 = (len(y1) + len(y2) + len(y3)) - 3\n",
    "df_2"
   ]
  },
  {
   "cell_type": "markdown",
   "id": "f69df40e",
   "metadata": {},
   "source": [
    "[Значение критерия Фишера пр уровне значимости Р=0,05](https://www.geokniga.org/geowiki/%D0%B7%D0%BD%D0%B0%D1%87%D0%B5%D0%BD%D0%B8%D0%B5-%D0%BA%D1%80%D0%B8%D1%82%D0%B5%D1%80%D0%B8%D1%8F-%D1%84%D0%B8%D1%88%D0%B5%D1%80%D0%B0)"
   ]
  },
  {
   "cell_type": "code",
   "execution_count": 56,
   "id": "6e843417",
   "metadata": {},
   "outputs": [
    {
     "data": {
      "text/plain": [
       "True"
      ]
     },
     "execution_count": 56,
     "metadata": {},
     "output_type": "execute_result"
    }
   ],
   "source": [
    "#Найдем табличный критерий Фишера\n",
    "F_n = 5.500053450812596\n",
    "F_t = 3.38\n",
    "F_n > F_t"
   ]
  },
  {
   "cell_type": "markdown",
   "id": "0d8b140a",
   "metadata": {},
   "source": [
    "#### Ответ: гипотеза H1 верна при α=0,05. Обнаржены различия среднего роста среди взрослых футболистов, хоккеистов и штангистов (различие между выборками существено). "
   ]
  }
 ],
 "metadata": {
  "kernelspec": {
   "display_name": "Python 3 (ipykernel)",
   "language": "python",
   "name": "python3"
  },
  "language_info": {
   "codemirror_mode": {
    "name": "ipython",
    "version": 3
   },
   "file_extension": ".py",
   "mimetype": "text/x-python",
   "name": "python",
   "nbconvert_exporter": "python",
   "pygments_lexer": "ipython3",
   "version": "3.9.7"
  }
 },
 "nbformat": 4,
 "nbformat_minor": 5
}
