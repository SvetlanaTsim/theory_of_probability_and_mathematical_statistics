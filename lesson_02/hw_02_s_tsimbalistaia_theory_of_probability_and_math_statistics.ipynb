{
 "cells": [
  {
   "cell_type": "markdown",
   "id": "1f953803",
   "metadata": {},
   "source": [
    "## **Урок 2. Дискретные случайные величины. Закон распределения вероятностей. Биномиальный закон распределения. Распределение Пуассона**"
   ]
  },
  {
   "cell_type": "markdown",
   "id": "30d182ea",
   "metadata": {},
   "source": [
    "#### Задача 1. Вероятность того, что стрелок попадет в мишень, выстрелив один раз, равна 0.8. \n",
    "#### Стрелок выстрелил 100 раз. \n",
    "#### Найдите вероятность того, что стрелок попадет в цель ровно 85 раз."
   ]
  },
  {
   "cell_type": "markdown",
   "id": "632b4f33",
   "metadata": {},
   "source": [
    "Формула биномиального распределения:\n",
    "\n",
    "$P_n (X = k) = C_n^kp^kq^{n-k}$\n",
    "\n",
    "где 𝒑 - это вероятность наступления события 𝑨 в  независимых испытаниях, a 𝒒 = 𝟏 – 𝒑.\n"
   ]
  },
  {
   "cell_type": "code",
   "execution_count": 24,
   "id": "fcb84b6a",
   "metadata": {},
   "outputs": [],
   "source": [
    "#В нашей задаче:\n",
    "\n",
    "n = 100\n",
    "\n",
    "k = 85\n",
    "\n",
    "p = 0.8\n",
    "\n",
    "q = 0.2"
   ]
  },
  {
   "cell_type": "code",
   "execution_count": 25,
   "id": "a149ff0b",
   "metadata": {},
   "outputs": [],
   "source": [
    "from math import factorial, e"
   ]
  },
  {
   "cell_type": "code",
   "execution_count": 26,
   "id": "0603f66f",
   "metadata": {},
   "outputs": [],
   "source": [
    "def combinations(n, k):\n",
    "    return int(factorial(n) / (factorial(k) * factorial(n - k)))"
   ]
  },
  {
   "cell_type": "code",
   "execution_count": 27,
   "id": "24ffa049",
   "metadata": {},
   "outputs": [
    {
     "data": {
      "text/plain": [
       "253338471349988640"
      ]
     },
     "execution_count": 27,
     "metadata": {},
     "output_type": "execute_result"
    }
   ],
   "source": [
    "C = combinations(100, 85)\n",
    "C"
   ]
  },
  {
   "cell_type": "code",
   "execution_count": 28,
   "id": "7127801b",
   "metadata": {},
   "outputs": [
    {
     "data": {
      "text/plain": [
       "0.048061793700746556"
      ]
     },
     "execution_count": 28,
     "metadata": {},
     "output_type": "execute_result"
    }
   ],
   "source": [
    "P = C * p ** k * q ** (n - k)\n",
    "P"
   ]
  },
  {
   "cell_type": "markdown",
   "id": "8ca4b5d9",
   "metadata": {},
   "source": [
    "#### Ответ: вероятность того, что стрелок попадет в цель ровно 85 раз  - 0.048061793700746556, примерно  4,8%"
   ]
  },
  {
   "cell_type": "markdown",
   "id": "89d97153",
   "metadata": {},
   "source": [
    "#### Задача 2. Вероятность того, что лампочка перегорит в течение первого дня эксплуатации, равна 0.0004.\n",
    "####  В жилом комплексе после ремонта в один день включили 5000 новых лампочек. \n",
    "####  Какова вероятность, что ни одна из них не перегорит в первый день? \n",
    "####  Какова вероятность, что перегорят ровно две?"
   ]
  },
  {
   "cell_type": "markdown",
   "id": "60426f04",
   "metadata": {},
   "source": [
    "Так как вероятность наступления события мала (0.0004), применим формулу Пуассона\n",
    "\n",
    "$P_m \\approx \\frac{\\lambda ^ m}{m!}e^{- \\lambda}$"
   ]
  },
  {
   "cell_type": "code",
   "execution_count": 29,
   "id": "7c46708e",
   "metadata": {},
   "outputs": [
    {
     "data": {
      "text/plain": [
       "2.0"
      ]
     },
     "execution_count": 29,
     "metadata": {},
     "output_type": "execute_result"
    }
   ],
   "source": [
    "#первая часть:\n",
    "\n",
    "#в нашей задаче:\n",
    "p = 0.0004\n",
    "n =  5000\n",
    "lambda_ = n * p\n",
    "m = 0\n",
    "lambda_"
   ]
  },
  {
   "cell_type": "code",
   "execution_count": 30,
   "id": "08bb4fec",
   "metadata": {},
   "outputs": [
    {
     "data": {
      "text/plain": [
       "0.1353352832366127"
      ]
     },
     "execution_count": 30,
     "metadata": {},
     "output_type": "execute_result"
    }
   ],
   "source": [
    "P = ((lambda_ ** m) / factorial(m)) * e ** (- lambda_)\n",
    "P"
   ]
  },
  {
   "cell_type": "markdown",
   "id": "6bb644cf",
   "metadata": {},
   "source": [
    "#### Ответ: вероятность того,  что ни одна из лампочек не перегорит в первый день  - 0.1353352832366127 или примерно 13,5%"
   ]
  },
  {
   "cell_type": "code",
   "execution_count": 31,
   "id": "fd619185",
   "metadata": {},
   "outputs": [],
   "source": [
    "# вторая часть\n",
    "\n",
    "#в нашей задаче:\n",
    "p = 0.0004\n",
    "n =  5000\n",
    "lambda_ = n * p\n",
    "m = 2"
   ]
  },
  {
   "cell_type": "code",
   "execution_count": 32,
   "id": "3f74872e",
   "metadata": {},
   "outputs": [
    {
     "data": {
      "text/plain": [
       "0.2706705664732254"
      ]
     },
     "execution_count": 32,
     "metadata": {},
     "output_type": "execute_result"
    }
   ],
   "source": [
    "P = ((lambda_ ** m) / factorial(m)) * e ** (- lambda_)\n",
    "P"
   ]
  },
  {
   "cell_type": "markdown",
   "id": "7c62c264",
   "metadata": {},
   "source": [
    "#### Ответ: вероятность того, что перегорят ровно две  - 0.2706705664732254 или примерно 27%"
   ]
  },
  {
   "cell_type": "markdown",
   "id": "cce1a042",
   "metadata": {},
   "source": [
    "#### Задача 3. Монету подбросили 144 раза. Какова вероятность, что орел выпадет ровно 70 раз?"
   ]
  },
  {
   "cell_type": "markdown",
   "id": "dba49ad4",
   "metadata": {},
   "source": [
    "Так как вероятность выпадания орла или решки 50 на 50, используем формулу Бернули.\n",
    "\n",
    "Формула биномиального распределения:\n",
    "\n",
    "$P_n (X = k) = C_n^kp^kq^{n-k}$\n",
    "\n",
    "где 𝒑 - это вероятность наступления события 𝑨 в  независимых испытаниях, a 𝒒 = 𝟏 – 𝒑.\n"
   ]
  },
  {
   "cell_type": "code",
   "execution_count": 33,
   "id": "75f6f035",
   "metadata": {},
   "outputs": [
    {
     "data": {
      "text/plain": [
       "1400749509083708712353342007350408066891776"
      ]
     },
     "execution_count": 33,
     "metadata": {},
     "output_type": "execute_result"
    }
   ],
   "source": [
    "C = combinations(144, 70)\n",
    "C"
   ]
  },
  {
   "cell_type": "code",
   "execution_count": 34,
   "id": "4131bd07",
   "metadata": {},
   "outputs": [],
   "source": [
    "#В нашей задаче:\n",
    "\n",
    "n = 144\n",
    "\n",
    "k = 70\n",
    "\n",
    "p = 0.5\n",
    "\n",
    "q = 0.5"
   ]
  },
  {
   "cell_type": "code",
   "execution_count": 35,
   "id": "472eacb4",
   "metadata": {},
   "outputs": [
    {
     "data": {
      "text/plain": [
       "0.06281178035144776"
      ]
     },
     "execution_count": 35,
     "metadata": {},
     "output_type": "execute_result"
    }
   ],
   "source": [
    "P = C * p ** k * q ** (n - k)\n",
    "P"
   ]
  },
  {
   "cell_type": "markdown",
   "id": "71f1aeac",
   "metadata": {},
   "source": [
    "#### Ответ: вероятность того, что орел выпадет ровно 70 раз - 0.06281178035144776 или 6,28%"
   ]
  },
  {
   "cell_type": "markdown",
   "id": "719f91d8",
   "metadata": {},
   "source": [
    "#### Задача 4. В первом ящике находится 10 мячей, из которых 7 - белые. \n",
    "#### Во втором ящике - 11 мячей, из которых 9 белых. \n",
    "#### Из каждого ящика вытаскивают случайным образом по два мяча. \n",
    "#### Какова вероятность того, что все мячи белые? \n",
    "#### Какова вероятность того, что ровно два мяча белые? \n",
    "#### Какова вероятность того, что хотя бы один мяч белый?"
   ]
  },
  {
   "cell_type": "code",
   "execution_count": 36,
   "id": "7e2b376f",
   "metadata": {},
   "outputs": [
    {
     "data": {
      "text/plain": [
       "0.3054545454545455"
      ]
     },
     "execution_count": 36,
     "metadata": {},
     "output_type": "execute_result"
    }
   ],
   "source": [
    "# Какова вероятность того, что все мячи белые?\n",
    "\n",
    "# Вероятность вытащить все 2 белых мяча из первой корзины:\n",
    "\n",
    "C_1 = combinations(7, 2) \n",
    "C_common_1  = combinations(10, 2) \n",
    "P_1 = C_1 / C_common_1 \n",
    "\n",
    "# Из второй\n",
    "\n",
    "C_2 = combinations(9, 2) \n",
    "C_common_2  = combinations(11, 2) \n",
    "P_2 = C_2 / C_common_2 \n",
    "\n",
    "P_final = P_1 * P_2\n",
    "\n",
    "P_final "
   ]
  },
  {
   "cell_type": "markdown",
   "id": "cff96075",
   "metadata": {},
   "source": [
    "#### Ответ: вероятность того, что все мячи белые  - 0.3054545454545455 или 30,5%"
   ]
  },
  {
   "cell_type": "code",
   "execution_count": 37,
   "id": "5030078f",
   "metadata": {},
   "outputs": [],
   "source": [
    "#Какова вероятность того, что ровно два мяча белые?\n",
    "# то есть мы можем вытащить или по одному белому мячу из каждой корзины, или из одной ни одного белого, а из второй оба белых.\n"
   ]
  },
  {
   "attachments": {
    "image.png": {
     "image/png": "[encoded data removed]"
    }
   },
   "cell_type": "markdown",
   "id": "0b566d24",
   "metadata": {},
   "source": [
    "Формула полной вероятности:\n",
    "\n",
    "![image.png](attachment:image.png)"
   ]
  },
  {
   "cell_type": "code",
   "execution_count": 38,
   "id": "1cf27161",
   "metadata": {},
   "outputs": [
    {
     "data": {
      "text/plain": [
       "0.04363636363636363"
      ]
     },
     "execution_count": 38,
     "metadata": {},
     "output_type": "execute_result"
    }
   ],
   "source": [
    "# Какова вероятность того, что ровно два мяча белые? \n",
    "\n",
    "# Или из первой корзины 0 белых, из второй 2 белых\n",
    "# Или из первой 2 белых, из второй 0 белых\n",
    "# Или из первой 1 белый, из второй 1 белый\n",
    "\n",
    "# Из первой корзины 0 белых, из второй 2 белых\n",
    "\n",
    "C1_1 = combinations(7, 0) * combinations(3, 2)\n",
    "C1_1_commom = combinations(10, 2)\n",
    "P1_1 = C1_1 / C1_1_commom\n",
    "\n",
    "C1_2 = combinations(9, 2)\n",
    "C1_2_commom = combinations(11, 2)\n",
    "P1_2 = C1_2 / C1_2_commom\n",
    "\n",
    "P1_final = P1_1 * P1_2\n",
    "\n",
    "P1_final\n"
   ]
  },
  {
   "cell_type": "code",
   "execution_count": 39,
   "id": "dcc2ac9e",
   "metadata": {},
   "outputs": [
    {
     "data": {
      "text/plain": [
       "0.008484848484848484"
      ]
     },
     "execution_count": 39,
     "metadata": {},
     "output_type": "execute_result"
    }
   ],
   "source": [
    "# из первой 2 белых, из второй 0 белых\n",
    "\n",
    "C2_1 = combinations(7, 2)\n",
    "C2_1_commom = combinations(10, 2)\n",
    "P2_1 = C2_1 / C2_1_commom\n",
    "\n",
    "C2_2 = combinations(9, 0) * combinations(2, 2)\n",
    "C2_2_commom = combinations(11, 2)\n",
    "P2_2 = C2_2 / C2_2_commom\n",
    "\n",
    "P2_final = P2_1 * P2_2\n",
    "\n",
    "P2_final\n"
   ]
  },
  {
   "cell_type": "code",
   "execution_count": 40,
   "id": "3fc350a5",
   "metadata": {},
   "outputs": [
    {
     "data": {
      "text/plain": [
       "0.15272727272727274"
      ]
     },
     "execution_count": 40,
     "metadata": {},
     "output_type": "execute_result"
    }
   ],
   "source": [
    "# из первой 1 белый, из второй 1 белый\n",
    "\n",
    "C3_1 = combinations(7, 1) * combinations(3, 1) \n",
    "C3_1_commom = combinations(10, 2)\n",
    "P3_1 = C3_1 / C3_1_commom\n",
    "\n",
    "C3_2 = combinations(9, 1) * combinations(2, 1)\n",
    "C3_2_commom = combinations(11, 2)\n",
    "P3_2 = C3_2 / C3_2_commom\n",
    "\n",
    "P3_final = P3_1 * P3_2\n",
    "\n",
    "P3_final"
   ]
  },
  {
   "cell_type": "code",
   "execution_count": 41,
   "id": "f912ee0c",
   "metadata": {},
   "outputs": [
    {
     "data": {
      "text/plain": [
       "0.20484848484848486"
      ]
     },
     "execution_count": 41,
     "metadata": {},
     "output_type": "execute_result"
    }
   ],
   "source": [
    "P_final_2_part = P1_final + P2_final + P3_final\n",
    "\n",
    "P_final_2_part"
   ]
  },
  {
   "cell_type": "code",
   "execution_count": 42,
   "id": "77845565",
   "metadata": {},
   "outputs": [
    {
     "data": {
      "text/plain": [
       "0.20407713498622587"
      ]
     },
     "execution_count": 42,
     "metadata": {},
     "output_type": "execute_result"
    }
   ],
   "source": [
    "#посчитаем через относительную вероятность:\n",
    "#### Задача 4. В первом ящике находится 10 мячей, из которых 7 - белые. \n",
    "#### Во втором ящике - 11 мячей, из которых 9 белых. \n",
    "\n",
    "#всего 6 комбинаций (бб)(чч)+(бч)(бч)+(бч)(чб)+(чб)(бч)+(чб)(чб)+(чч)(бб)\n",
    "\n",
    "P_P = (7/10)*(3/9)*(2/11)*(9/10) + (7/10)*(3/9)*(9/11)*(2/10) + (3/10)*(7/9)*(2/11)*(9/10) + (3/10)*(7/9)*(9/11)*(2/10) + (3/10)*(2/9)*(9/11)*(8/10) + (7/10)*(6/9)*(2/11)*(1/11)\n",
    "\n",
    "P_P"
   ]
  },
  {
   "cell_type": "markdown",
   "id": "09359f6c",
   "metadata": {},
   "source": [
    "#### Ответ: вероятность того, что ровно два мяча белые - 0.20484848484848486 или  20,5%"
   ]
  },
  {
   "cell_type": "code",
   "execution_count": 43,
   "id": "3a56fa96",
   "metadata": {},
   "outputs": [
    {
     "data": {
      "text/plain": [
       "0.0012121212121212121"
      ]
     },
     "execution_count": 43,
     "metadata": {},
     "output_type": "execute_result"
    }
   ],
   "source": [
    "# Какова вероятность того, что хотя бы один мяч белый?\n",
    "\n",
    "# Данное событие включает в себя любое количество белых мячей из полчуенных 4, кроме 0. \n",
    "# Мы найдем, вероятноть вытащить 0 белых мячей и отнимем данную вероятность от 1.\n",
    "\n",
    "# Вероятность вытащить все 0 белых мяча из первой корзины:\n",
    "\n",
    "C_1_0 = combinations(7, 0) * combinations(3, 2)  \n",
    "C_common_1_0  = combinations(10, 2) \n",
    "P_1_0 = C_1_0 / C_common_1_0 \n",
    "\n",
    "# Из второй\n",
    "\n",
    "C_2_0 = combinations(9, 0) * combinations(2, 2)\n",
    "C_common_2_0  = combinations(11, 2) \n",
    "P_2_0 = C_2_0 / C_common_2_0 \n",
    "\n",
    "P_0 = P_1_0 * P_2_0\n",
    "\n",
    "P_0 "
   ]
  },
  {
   "cell_type": "code",
   "execution_count": 44,
   "id": "0a20fca3",
   "metadata": {},
   "outputs": [
    {
     "data": {
      "text/plain": [
       "0.9987878787878788"
      ]
     },
     "execution_count": 44,
     "metadata": {},
     "output_type": "execute_result"
    }
   ],
   "source": [
    "P_at_least_one = 1 - P_0 \n",
    "P_at_least_one"
   ]
  },
  {
   "cell_type": "markdown",
   "id": "219c141b",
   "metadata": {},
   "source": [
    "####  Ответ: вероятность того, что хотя бы один мяч белый - 0.9987878787878788 или 99,88%"
   ]
  }
 ],
 "metadata": {
  "kernelspec": {
   "display_name": "Python 3 (ipykernel)",
   "language": "python",
   "name": "python3"
  },
  "language_info": {
   "codemirror_mode": {
    "name": "ipython",
    "version": 3
   },
   "file_extension": ".py",
   "mimetype": "text/x-python",
   "name": "python",
   "nbconvert_exporter": "python",
   "pygments_lexer": "ipython3",
   "version": "3.9.7"
  }
 },
 "nbformat": 4,
 "nbformat_minor": 5
}
