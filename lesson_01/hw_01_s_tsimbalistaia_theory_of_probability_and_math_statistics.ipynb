{
 "cells": [
  {
   "cell_type": "markdown",
   "id": "5e3d9471",
   "metadata": {},
   "source": [
    "## **Урок 1. Случайные события. Условная вероятность. Формула Байеса. Независимые испытания**"
   ]
  },
  {
   "cell_type": "markdown",
   "id": "ea11c648",
   "metadata": {},
   "source": [
    "#### Задача 1. Из колоды в 52 карты извлекаются случайным образом 4 карты.\n",
    "#### a) Найти вероятность того, что все карты – крести. \n",
    "#### б) Найти вероятность, что среди 4-х карт окажется хотя бы один туз."
   ]
  },
  {
   "cell_type": "markdown",
   "id": "deaf952b",
   "metadata": {},
   "source": [
    "Начнем с того, что создадим функцию для нахождения количества сочетаний."
   ]
  },
  {
   "cell_type": "code",
   "execution_count": 63,
   "id": "8d7ca12e",
   "metadata": {},
   "outputs": [],
   "source": [
    "from math import factorial"
   ]
  },
  {
   "cell_type": "code",
   "execution_count": 64,
   "id": "6081f508",
   "metadata": {},
   "outputs": [],
   "source": [
    "def combinations(n, k):\n",
    "    return int(factorial(n) / (factorial(k) * factorial(n - k)))"
   ]
  },
  {
   "cell_type": "markdown",
   "id": "63f29210",
   "metadata": {},
   "source": [
    "#### a) Найти вероятность того, что все карты – крести.\n",
    "Вероятность находится по формуле:\n",
    "\n",
    "$P = \\frac{число \\;исходов,\\; благоприятствующих\\;  событию}{общее\\; число \\;исходов }$"
   ]
  },
  {
   "attachments": {},
   "cell_type": "markdown",
   "id": "048dbdf3",
   "metadata": {},
   "source": [
    "число исходов, благоприятствующих событию – это количество сочетаний 4 карт из 52, где будет 4 крестовых карты (так как в задаче сказано, что ВСЕ карты крести), C1 \n",
    "\n",
    "общее число исходов – это все возможные сочетания 4 карт из 52, С2"
   ]
  },
  {
   "attachments": {},
   "cell_type": "markdown",
   "id": "ee8e04b3",
   "metadata": {},
   "source": [
    "Получается, вероятность будет находиться по формуле:\n",
    "\n",
    "$P = \\frac{C1}{C2}$\n",
    "\n",
    "Найдем C1, C2 и подставим в формулу."
   ]
  },
  {
   "cell_type": "code",
   "execution_count": 65,
   "id": "60197bc4",
   "metadata": {},
   "outputs": [
    {
     "data": {
      "text/plain": [
       "715"
      ]
     },
     "execution_count": 65,
     "metadata": {},
     "output_type": "execute_result"
    }
   ],
   "source": [
    "#Найдем С1\n",
    "\n",
    "#Получается, вытаскиваются 4 крестовых карты и 0 карт других мастей. \n",
    "#В колоде 52 карты по 13 карт каждой масти.\n",
    "\n",
    "#Найдем число сочетаний из 13 по 4 карты\n",
    "\n",
    "С1_1 = combinations(13, 4)\n",
    "С1_1"
   ]
  },
  {
   "cell_type": "code",
   "execution_count": 66,
   "id": "e168272a",
   "metadata": {},
   "outputs": [
    {
     "data": {
      "text/plain": [
       "1"
      ]
     },
     "execution_count": 66,
     "metadata": {},
     "output_type": "execute_result"
    }
   ],
   "source": [
    "#Осталось 39 некрестовых карт\n",
    "\n",
    "#Найдем число сочетаний из 39 по 0 карт\n",
    "\n",
    "С1_2 = combinations(39, 0)\n",
    "С1_2"
   ]
  },
  {
   "cell_type": "code",
   "execution_count": 67,
   "id": "f98a152e",
   "metadata": {},
   "outputs": [
    {
     "data": {
      "text/plain": [
       "715"
      ]
     },
     "execution_count": 67,
     "metadata": {},
     "output_type": "execute_result"
    }
   ],
   "source": [
    "#Найдем С1\n",
    "\n",
    "C1 = С1_1 * С1_2\n",
    "\n",
    "C1"
   ]
  },
  {
   "cell_type": "code",
   "execution_count": 68,
   "id": "255f6b39",
   "metadata": {},
   "outputs": [
    {
     "data": {
      "text/plain": [
       "270725"
      ]
     },
     "execution_count": 68,
     "metadata": {},
     "output_type": "execute_result"
    }
   ],
   "source": [
    "#Теперь найдем С2\n",
    "#Это общее число исходов – это все возможные сочетания 4 карт из 52\n",
    "\n",
    "C2 = combinations(52, 4)\n",
    "C2"
   ]
  },
  {
   "cell_type": "code",
   "execution_count": 69,
   "id": "31fb611b",
   "metadata": {},
   "outputs": [
    {
     "data": {
      "text/plain": [
       "0.0026410564225690276"
      ]
     },
     "execution_count": 69,
     "metadata": {},
     "output_type": "execute_result"
    }
   ],
   "source": [
    "P = C1 / С2\n",
    "P"
   ]
  },
  {
   "cell_type": "markdown",
   "id": "7cddb098",
   "metadata": {},
   "source": [
    "#### Ответ: вероятность того, что все 4 карты – крести составляет 0.0026410564225690276 или примерно 0,26%"
   ]
  },
  {
   "cell_type": "markdown",
   "id": "df5afdc1",
   "metadata": {},
   "source": [
    "#### б) Найти вероятность, что среди 4-х карт окажется хотя бы один туз.\n",
    "\n",
    "То есть из 4-х карт будет или 1, или 2, или 3, или 4 туза."
   ]
  },
  {
   "cell_type": "markdown",
   "id": "28988336",
   "metadata": {},
   "source": [
    "Аналогично, вероятность находится по формуле:\n",
    "\n",
    "$P = \\frac{число \\;исходов,\\; благоприятствующих\\;  событию}{общее\\; число \\;исходов }$"
   ]
  },
  {
   "cell_type": "markdown",
   "id": "3624a2c2",
   "metadata": {},
   "source": [
    "число исходов, благоприятствующих событию – это количество сочетаний 4 карт из 52, где будет 1, 2, 3 или 4 туза, С3 \n",
    "\n",
    "общее число исходов – это все возможные сочетания 4 карт из 52, С2. Мы его уже находили в прошлый раз С2 = 270725"
   ]
  },
  {
   "cell_type": "markdown",
   "id": "63c28f0e",
   "metadata": {},
   "source": [
    "Получается вероятность будет находиться по формуле:\n",
    "\n",
    "$P = \\frac{C3}{C2}$\n",
    "\n",
    "Найдем C3 и подставим в формулу."
   ]
  },
  {
   "cell_type": "markdown",
   "id": "23576d68",
   "metadata": {},
   "source": [
    "Найдем С3:\n",
    "\n",
    "$C3 = C3_1 + C3_2 + C3_3 + C3_4$\n",
    "\n",
    "C3_1, C3_2, C3_3, C3_4 - это количество комбинаций с 1, 2, 3, 4 тузами соответственно."
   ]
  },
  {
   "cell_type": "code",
   "execution_count": 70,
   "id": "4fd75f9a",
   "metadata": {},
   "outputs": [
    {
     "data": {
      "text/plain": [
       "4"
      ]
     },
     "execution_count": 70,
     "metadata": {},
     "output_type": "execute_result"
    }
   ],
   "source": [
    "#Найдем С3_1, то есть рассмотрим ситуацию, когда у нас 1 туз и 3 не туза.\n",
    "#Найдем число сочетаний из 4 тузов по 1-му\n",
    "\n",
    "C3_1_1 = combinations(4, 1)\n",
    "C3_1_1 "
   ]
  },
  {
   "cell_type": "code",
   "execution_count": 71,
   "id": "0d5f80ba",
   "metadata": {},
   "outputs": [
    {
     "data": {
      "text/plain": [
       "17296"
      ]
     },
     "execution_count": 71,
     "metadata": {},
     "output_type": "execute_result"
    }
   ],
   "source": [
    "# 48 оставшихся карт - это не тузы.\n",
    "# Надем из них сочетание по 3.\n",
    "\n",
    "C3_1_2 = combinations(48, 3)\n",
    "C3_1_2 "
   ]
  },
  {
   "cell_type": "code",
   "execution_count": 72,
   "id": "4ea0cdd2",
   "metadata": {},
   "outputs": [
    {
     "data": {
      "text/plain": [
       "69184"
      ]
     },
     "execution_count": 72,
     "metadata": {},
     "output_type": "execute_result"
    }
   ],
   "source": [
    "C3_1 = C3_1_2 * C3_1_1 \n",
    "C3_1"
   ]
  },
  {
   "cell_type": "code",
   "execution_count": 73,
   "id": "97012e02",
   "metadata": {},
   "outputs": [
    {
     "data": {
      "text/plain": [
       "69184"
      ]
     },
     "execution_count": 73,
     "metadata": {},
     "output_type": "execute_result"
    }
   ],
   "source": [
    "#Оформим получившиеся расчеты в виде функции, чтобы не повторять код.\n",
    "#n - количество тузов\n",
    "\n",
    "def ace_combinations(n):\n",
    "    return combinations(4, n) * combinations(48, 4-n)\n",
    "\n",
    "C3_1_test = ace_combinations(1)\n",
    "C3_1_test"
   ]
  },
  {
   "cell_type": "code",
   "execution_count": 74,
   "id": "9ecd7de3",
   "metadata": {},
   "outputs": [
    {
     "data": {
      "text/plain": [
       "6768"
      ]
     },
     "execution_count": 74,
     "metadata": {},
     "output_type": "execute_result"
    }
   ],
   "source": [
    "C3_2 = ace_combinations(2)\n",
    "C3_2"
   ]
  },
  {
   "cell_type": "code",
   "execution_count": 75,
   "id": "71c21670",
   "metadata": {},
   "outputs": [
    {
     "data": {
      "text/plain": [
       "192"
      ]
     },
     "execution_count": 75,
     "metadata": {},
     "output_type": "execute_result"
    }
   ],
   "source": [
    "C3_3 = ace_combinations(3)\n",
    "C3_3"
   ]
  },
  {
   "cell_type": "code",
   "execution_count": 76,
   "id": "ecb2e60c",
   "metadata": {},
   "outputs": [
    {
     "data": {
      "text/plain": [
       "1"
      ]
     },
     "execution_count": 76,
     "metadata": {},
     "output_type": "execute_result"
    }
   ],
   "source": [
    "C3_4 = ace_combinations(4)\n",
    "C3_4 "
   ]
  },
  {
   "cell_type": "code",
   "execution_count": 77,
   "id": "2fea9cd3",
   "metadata": {},
   "outputs": [
    {
     "data": {
      "text/plain": [
       "76145"
      ]
     },
     "execution_count": 77,
     "metadata": {},
     "output_type": "execute_result"
    }
   ],
   "source": [
    "C3  = C3_1 + C3_2 + C3_3 + C3_4 \n",
    "C3"
   ]
  },
  {
   "cell_type": "code",
   "execution_count": 78,
   "id": "454fe9e3",
   "metadata": {},
   "outputs": [
    {
     "data": {
      "text/plain": [
       "0.2812632745405855"
      ]
     },
     "execution_count": 78,
     "metadata": {},
     "output_type": "execute_result"
    }
   ],
   "source": [
    "P_1 = C3 / C2\n",
    "P_1"
   ]
  },
  {
   "cell_type": "markdown",
   "id": "358c4604",
   "metadata": {},
   "source": [
    "#### Ответ:  вероятность, что среди 4-х карт окажется хотя бы один туз составляет 0.2812632745405855 или примерно 28,13%"
   ]
  },
  {
   "cell_type": "markdown",
   "id": "b7ccf458",
   "metadata": {},
   "source": [
    "#### Задача 2. На входной двери подъезда установлен кодовый замок, содержащий десять кнопок с цифрами от 0 до 9.\n",
    "#### Код содержит три цифры, которые нужно нажать одновременно.\n",
    "#### Какова вероятность того, что человек, не знающий код, откроет дверь с первой попытки?"
   ]
  },
  {
   "attachments": {},
   "cell_type": "markdown",
   "id": "cae01d0a",
   "metadata": {},
   "source": [
    "Получается, человек нажмет одновременно три кнопки. Так как, нажав первую, он на нее второй раз нажать не сможет, \n",
    "то эти три события являются зависимыми. \n",
    "\n",
    "Зависимыми событиями называются, когда появление одного влияет на появление другого.\n",
    "\n",
    "Вероятность появления двух зависимых событий\n",
    "\n",
    "$P(A*B) = P(A)* P(B|A)$\n",
    "\n",
    "Рассчитаем данную вероятность для трех событий задачи."
   ]
  },
  {
   "cell_type": "code",
   "execution_count": 79,
   "id": "177e1e68",
   "metadata": {},
   "outputs": [
    {
     "data": {
      "text/plain": [
       "(0.1, 0.1111111111111111, 0.125)"
      ]
     },
     "execution_count": 79,
     "metadata": {},
     "output_type": "execute_result"
    }
   ],
   "source": [
    "# Вероятность нажатия правильно первой кнопки\n",
    "A = 1 / 10\n",
    "\n",
    "#Вероятность нажатия правильно второй кнопки\n",
    "B = 1 / 9\n",
    "\n",
    "#Вероятность нажатия правильно третьей кнопки\n",
    "C = 1 / 8\n",
    "\n",
    "A, B, C"
   ]
  },
  {
   "cell_type": "code",
   "execution_count": 80,
   "id": "878e3c3d",
   "metadata": {},
   "outputs": [
    {
     "data": {
      "text/plain": [
       "0.001388888888888889"
      ]
     },
     "execution_count": 80,
     "metadata": {},
     "output_type": "execute_result"
    }
   ],
   "source": [
    "P = A * B * C\n",
    "P"
   ]
  },
  {
   "cell_type": "markdown",
   "id": "5de9cfb3",
   "metadata": {},
   "source": [
    "#### Ответ:  вероятность,  что человек, не знающий код, откроет дверь с первой попытки - 0.001388888888888889 или  примерно 0,14%"
   ]
  },
  {
   "cell_type": "markdown",
   "id": "1246f23a",
   "metadata": {},
   "source": [
    "#### Задача 3. В ящике имеется 15 деталей, из которых 9 окрашены. \n",
    "#### Рабочий случайным образом извлекает 3 детали. \n",
    "#### Какова вероятность того, что все извлеченные детали окрашены?"
   ]
  },
  {
   "cell_type": "markdown",
   "id": "b845be22",
   "metadata": {},
   "source": [
    "Когда рабочий вытащит одну окрашенную деталь, их количество уменьшится. Значит, последующие случаи извлечения окрашенной \n",
    "детали - это зависимые события.\n",
    "\n",
    "Зависимыми событиями называются, когда появление одного влияет на появление другого.\n",
    "\n",
    "Вероятность появления двух зависимых событий\n",
    "\n",
    "$P(A*B) = P(A)* P(B|A)$\n",
    "\n",
    "Рассчитаем данную вероятность для трех событий задачи."
   ]
  },
  {
   "cell_type": "code",
   "execution_count": 81,
   "id": "6b1b4187",
   "metadata": {},
   "outputs": [
    {
     "data": {
      "text/plain": [
       "(0.6, 0.5714285714285714, 0.5384615384615384)"
      ]
     },
     "execution_count": 81,
     "metadata": {},
     "output_type": "execute_result"
    }
   ],
   "source": [
    "#Вероятность извлечения первой окрашенной детали\n",
    "A = 9 / 15\n",
    "\n",
    "#Вероятность извлечения второй окрашенной детали\n",
    "B = 8 / 14\n",
    "\n",
    "#Вероятность извлечения третьей окрашенной детали\n",
    "C = 7 / 13\n",
    "\n",
    "A, B, C"
   ]
  },
  {
   "cell_type": "code",
   "execution_count": 82,
   "id": "ae417250",
   "metadata": {},
   "outputs": [
    {
     "data": {
      "text/plain": [
       "0.18461538461538457"
      ]
     },
     "execution_count": 82,
     "metadata": {},
     "output_type": "execute_result"
    }
   ],
   "source": [
    "P = A * B * C\n",
    "P"
   ]
  },
  {
   "cell_type": "markdown",
   "id": "6692e5ca",
   "metadata": {},
   "source": [
    "#### Ответ:  вероятность, что все извлеченные детали окрашены - 0.18461538461538457 или примерно 18,5%"
   ]
  },
  {
   "cell_type": "markdown",
   "id": "ffae9b93",
   "metadata": {},
   "source": [
    "#### Задача 4. В лотерее 100 билетов. Из них 2 выигрышных.\n",
    "#### Какова вероятность того, что 2 приобретенных билета окажутся выигрышными?"
   ]
  },
  {
   "cell_type": "markdown",
   "id": "600ed7b2",
   "metadata": {},
   "source": [
    "Также, как в предыдущих задачах, эти два события (приобретение выигрышных билетов) являются зависимыми.\n",
    "\n",
    "Зависимыми событиями называются, когда появление одного влияет на появление другого.\n",
    "\n",
    "Вероятность появления двух зависимых событий\n",
    "\n",
    "$P(A*B) = P(A)* P(B|A)$\n",
    "\n",
    "Рассчитаем данную вероятность для двух событий задачи."
   ]
  },
  {
   "cell_type": "code",
   "execution_count": 83,
   "id": "8c97520f",
   "metadata": {},
   "outputs": [
    {
     "data": {
      "text/plain": [
       "(0.02, 0.010101010101010102)"
      ]
     },
     "execution_count": 83,
     "metadata": {},
     "output_type": "execute_result"
    }
   ],
   "source": [
    "#Вероятность приобретения первого выигрышного билета\n",
    "A = 2 / 100\n",
    "\n",
    "#Вероятность приобретения второго выигрышного билета\n",
    "B = 1 / 99\n",
    "\n",
    "A, B"
   ]
  },
  {
   "cell_type": "code",
   "execution_count": 84,
   "id": "c3816abc",
   "metadata": {},
   "outputs": [
    {
     "data": {
      "text/plain": [
       "0.00020202020202020205"
      ]
     },
     "execution_count": 84,
     "metadata": {},
     "output_type": "execute_result"
    }
   ],
   "source": [
    "P = A * B\n",
    "P"
   ]
  },
  {
   "cell_type": "markdown",
   "id": "c7cbd0eb",
   "metadata": {},
   "source": [
    "#### Ответ:  вероятность, что 2 приобретенных билета окажутся выигрышными 0.00020202020202020205 или примерно 0,02%"
   ]
  }
 ],
 "metadata": {
  "kernelspec": {
   "display_name": "Python 3 (ipykernel)",
   "language": "python",
   "name": "python3"
  },
  "language_info": {
   "codemirror_mode": {
    "name": "ipython",
    "version": 3
   },
   "file_extension": ".py",
   "mimetype": "text/x-python",
   "name": "python",
   "nbconvert_exporter": "python",
   "pygments_lexer": "ipython3",
   "version": "3.9.7"
  }
 },
 "nbformat": 4,
 "nbformat_minor": 5
}
