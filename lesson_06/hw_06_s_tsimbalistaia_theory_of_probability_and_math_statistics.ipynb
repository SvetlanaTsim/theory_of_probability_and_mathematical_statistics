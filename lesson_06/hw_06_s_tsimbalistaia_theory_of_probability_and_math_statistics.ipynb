{
 "cells": [
  {
   "cell_type": "markdown",
   "id": "893710b0",
   "metadata": {},
   "source": [
    "## **Урок 6. Взаимосвязь величин. Параметрические и непараметрические показатели корреляции. Корреляционный анализ.**"
   ]
  },
  {
   "cell_type": "markdown",
   "id": "1e54b35c",
   "metadata": {},
   "source": [
    "#### Задача 1. Даны значения величины заработной платы заемщиков банка (zp) и значения их поведенческого кредитного скоринга (ks):\n",
    "#### zp = [35, 45, 190, 200, 40, 70, 54, 150, 120, 110],\n",
    "#### ks = [401, 574, 874, 919, 459, 739, 653, 902, 746, 832].\n",
    "#### Найдите ковариацию этих двух величин с помощью элементарных действий, а затем с помощью функции cov из numpy\n",
    "#### Полученные значения должны быть равны.\n",
    "#### Найдите коэффициент корреляции Пирсона с помощью ковариации и среднеквадратичных отклонений двух признаков,\n",
    "#### а затем с использованием функций из библиотек numpy и pandas."
   ]
  },
  {
   "cell_type": "code",
   "execution_count": 36,
   "id": "2f6af987",
   "metadata": {},
   "outputs": [],
   "source": [
    "import numpy as np\n",
    "import pandas as pd"
   ]
  },
  {
   "cell_type": "code",
   "execution_count": 37,
   "id": "91785573",
   "metadata": {},
   "outputs": [],
   "source": [
    "zp = np.array([35, 45, 190, 200, 40, 70, 54, 150, 120, 110])"
   ]
  },
  {
   "cell_type": "code",
   "execution_count": 38,
   "id": "ec646c67",
   "metadata": {},
   "outputs": [],
   "source": [
    "ks = np.array([401, 574, 874, 919, 459, 739, 653, 902, 746, 832])"
   ]
  },
  {
   "cell_type": "markdown",
   "id": "a6c2b15b",
   "metadata": {},
   "source": [
    "Найдите ковариацию этих двух величин с помощью элементарных действий.\n",
    "\n",
    "Формула ковариации:\n",
    "\n",
    "$$cov_{XY} = M[(X - M(X))(Y - M(Y))] = M(XY) - M(X)M(Y)=\\overline{X \\cdot Y} - \\overline{X} \\cdot \\overline{Y}$$"
   ]
  },
  {
   "cell_type": "code",
   "execution_count": 39,
   "id": "c24e866b",
   "metadata": {},
   "outputs": [
    {
     "data": {
      "text/plain": [
       "9157.839999999997"
      ]
     },
     "execution_count": 39,
     "metadata": {},
     "output_type": "execute_result"
    }
   ],
   "source": [
    "cov = np.mean(zp * ks) - np.mean(zp) * np.mean(ks)\n",
    "cov"
   ]
  },
  {
   "cell_type": "code",
   "execution_count": 40,
   "id": "b0d84d42",
   "metadata": {},
   "outputs": [
    {
     "data": {
      "text/plain": [
       "array([[ 3494.64,  9157.84],\n",
       "       [ 9157.84, 30468.89]])"
      ]
     },
     "execution_count": 40,
     "metadata": {},
     "output_type": "execute_result"
    }
   ],
   "source": [
    "# а затем с помощью функции cov из numpy\n",
    "#Полученные значения должны быть равны\n",
    "np.cov(zp, ks, ddof = 0)"
   ]
  },
  {
   "cell_type": "markdown",
   "id": "0a213b4c",
   "metadata": {},
   "source": [
    "Зная ковариацию и среднее квадратичное отклонение каждого из двух признаков, можно вычислить коэффициент корреляции Пирсона:\n",
    "\n",
    "$$r_{XY} = \\frac{cov_{XY}}{\\sigma_{X}\\sigma_{Y}}$$"
   ]
  },
  {
   "cell_type": "code",
   "execution_count": 41,
   "id": "d47907dd",
   "metadata": {},
   "outputs": [
    {
     "data": {
      "text/plain": [
       "59.115480206118605"
      ]
     },
     "execution_count": 41,
     "metadata": {},
     "output_type": "execute_result"
    }
   ],
   "source": [
    "#Найдите коэффициент корреляции Пирсона с помощью ковариации и среднеквадратичных отклонений двух признаков\n",
    "std_zp = np.std(zp, ddof = 0)\n",
    "std_zp "
   ]
  },
  {
   "cell_type": "code",
   "execution_count": 42,
   "id": "0e7cda3f",
   "metadata": {},
   "outputs": [
    {
     "data": {
      "text/plain": [
       "174.55340157098058"
      ]
     },
     "execution_count": 42,
     "metadata": {},
     "output_type": "execute_result"
    }
   ],
   "source": [
    "std_ks = np.std(ks, ddof = 0)\n",
    "std_ks"
   ]
  },
  {
   "cell_type": "code",
   "execution_count": 43,
   "id": "160da36d",
   "metadata": {},
   "outputs": [
    {
     "data": {
      "text/plain": [
       "0.8874900920739158"
      ]
     },
     "execution_count": 43,
     "metadata": {},
     "output_type": "execute_result"
    }
   ],
   "source": [
    "r = cov / (std_zp * std_ks)\n",
    "r"
   ]
  },
  {
   "cell_type": "code",
   "execution_count": 44,
   "id": "03caec20",
   "metadata": {},
   "outputs": [
    {
     "data": {
      "text/plain": [
       "array([[1.        , 0.88749009],\n",
       "       [0.88749009, 1.        ]])"
      ]
     },
     "execution_count": 44,
     "metadata": {},
     "output_type": "execute_result"
    }
   ],
   "source": [
    "#а затем с использованием функций из библиотек numpy и pandas\n",
    "np.corrcoef(zp, ks)"
   ]
  },
  {
   "cell_type": "code",
   "execution_count": 45,
   "id": "5c1cc897",
   "metadata": {},
   "outputs": [],
   "source": [
    "zp_, ks_ = pd.Series(zp), pd.Series(ks)"
   ]
  },
  {
   "cell_type": "code",
   "execution_count": 46,
   "id": "858441f1",
   "metadata": {},
   "outputs": [
    {
     "data": {
      "text/plain": [
       "9157.840000000002"
      ]
     },
     "execution_count": 46,
     "metadata": {},
     "output_type": "execute_result"
    }
   ],
   "source": [
    "cov_zp_ks = zp_.cov(ks_, ddof=0)\n",
    "cov_zp_ks"
   ]
  },
  {
   "cell_type": "code",
   "execution_count": 47,
   "id": "884c1558",
   "metadata": {},
   "outputs": [
    {
     "data": {
      "text/plain": [
       "0.8874900920739163"
      ]
     },
     "execution_count": 47,
     "metadata": {},
     "output_type": "execute_result"
    }
   ],
   "source": [
    "r_zp_ks = zp_.corr(ks_)\n",
    "r_zp_ks"
   ]
  },
  {
   "cell_type": "markdown",
   "id": "54250994",
   "metadata": {},
   "source": [
    "#### Задача 2. Измерены значения IQ выборки студентов,\n",
    "####  обучающихся в местных технических вузах:\n",
    "####  131, 125, 115, 122, 131, 115, 107, 99, 125, 111.\n",
    "####  Известно, что в генеральной совокупности IQ распределен нормально.\n",
    "#### Найдите доверительный интервал для математического ожидания с надежностью 0.95."
   ]
  },
  {
   "cell_type": "code",
   "execution_count": 48,
   "id": "40ba7a0a",
   "metadata": {},
   "outputs": [
    {
     "data": {
      "text/plain": [
       "10"
      ]
     },
     "execution_count": 48,
     "metadata": {},
     "output_type": "execute_result"
    }
   ],
   "source": [
    "iq = np.array([131, 125, 115, 122, 131, 115, 107, 99, 125, 111])\n",
    "n= len(iq)\n",
    "n"
   ]
  },
  {
   "cell_type": "markdown",
   "id": "22aedf2c",
   "metadata": {},
   "source": [
    "Так как неизвестна $\\sigma$ генеральной совокупности, воспользуемся формулой нахождения доверительного интервала (по критерию Стьюдента):\n",
    "\n",
    "$$\\bar X \\pm t_{\\alpha/2} * \\frac{\\sigma_n}{\\sqrt{n}}$$"
   ]
  },
  {
   "cell_type": "code",
   "execution_count": 49,
   "id": "708040cf",
   "metadata": {},
   "outputs": [
    {
     "data": {
      "text/plain": [
       "118.1"
      ]
     },
     "execution_count": 49,
     "metadata": {},
     "output_type": "execute_result"
    }
   ],
   "source": [
    "t = 2.262\n",
    "mu = np.mean(iq)\n",
    "mu"
   ]
  },
  {
   "cell_type": "code",
   "execution_count": 50,
   "id": "5dfe0385",
   "metadata": {},
   "outputs": [
    {
     "data": {
      "text/plain": [
       "10.54566788359614"
      ]
     },
     "execution_count": 50,
     "metadata": {},
     "output_type": "execute_result"
    }
   ],
   "source": [
    "sigma_iq = np.std(iq, ddof=1)\n",
    "sigma_iq"
   ]
  },
  {
   "cell_type": "code",
   "execution_count": 51,
   "id": "61cb3532",
   "metadata": {},
   "outputs": [
    {
     "data": {
      "text/plain": [
       "125.64339223691834"
      ]
     },
     "execution_count": 51,
     "metadata": {},
     "output_type": "execute_result"
    }
   ],
   "source": [
    "a1 = mu + t * sigma_iq / np.sqrt(n)\n",
    "a1"
   ]
  },
  {
   "cell_type": "code",
   "execution_count": 52,
   "id": "8dbe332e",
   "metadata": {},
   "outputs": [
    {
     "data": {
      "text/plain": [
       "110.55660776308164"
      ]
     },
     "execution_count": 52,
     "metadata": {},
     "output_type": "execute_result"
    }
   ],
   "source": [
    "a2 = mu - t * sigma_iq / np.sqrt(n)\n",
    "a2"
   ]
  },
  {
   "cell_type": "markdown",
   "id": "058e20ec",
   "metadata": {},
   "source": [
    "#### Ответ: [110.55660776308164; 125.64339223691834]."
   ]
  },
  {
   "cell_type": "markdown",
   "id": "bd9bdce3",
   "metadata": {},
   "source": [
    "#### Задача 3. Известно, что рост футболистов в сборной распределен нормально\n",
    "#### с дисперсией генеральной совокупности, равной 25 кв.см. Объем выборки равен 27,\n",
    "#### среднее выборочное составляет 174.2. Найдите доверительный интервал для математического\n",
    "#### ожидания с надежностью 0.95."
   ]
  },
  {
   "cell_type": "markdown",
   "id": "7ab11f26",
   "metadata": {},
   "source": [
    "Так как известна $\\sigma$ генеральной совокупности, воспользуемся формулой нахождения доверительного интервала:\n",
    "\n",
    "$$\\bar X \\pm Z_{\\alpha/2} * \\frac{\\sigma}{\\sqrt{n}}$$"
   ]
  },
  {
   "cell_type": "code",
   "execution_count": 53,
   "id": "e3d1957a",
   "metadata": {},
   "outputs": [
    {
     "data": {
      "text/plain": [
       "5.0"
      ]
     },
     "execution_count": 53,
     "metadata": {},
     "output_type": "execute_result"
    }
   ],
   "source": [
    "sigma = 25 ** 0.5\n",
    "sigma "
   ]
  },
  {
   "cell_type": "code",
   "execution_count": 54,
   "id": "12f80609",
   "metadata": {},
   "outputs": [],
   "source": [
    "n = 27\n",
    "M = 174.2\n",
    "Z = -1.96"
   ]
  },
  {
   "cell_type": "code",
   "execution_count": 55,
   "id": "0b9e6cfd",
   "metadata": {},
   "outputs": [
    {
     "data": {
      "text/plain": [
       "172.31398912064722"
      ]
     },
     "execution_count": 55,
     "metadata": {},
     "output_type": "execute_result"
    }
   ],
   "source": [
    "a1 = M + Z * sigma / np.sqrt(n)\n",
    "a1"
   ]
  },
  {
   "cell_type": "code",
   "execution_count": 56,
   "id": "144be208",
   "metadata": {},
   "outputs": [
    {
     "data": {
      "text/plain": [
       "176.08601087935276"
      ]
     },
     "execution_count": 56,
     "metadata": {},
     "output_type": "execute_result"
    }
   ],
   "source": [
    "a2 = M - Z * sigma / np.sqrt(n)\n",
    "a2"
   ]
  },
  {
   "cell_type": "markdown",
   "id": "cc1dce6e",
   "metadata": {},
   "source": [
    "#### Ответ: [172.31398912064722; 176.08601087935276]."
   ]
  }
 ],
 "metadata": {
  "kernelspec": {
   "display_name": "Python 3 (ipykernel)",
   "language": "python",
   "name": "python3"
  },
  "language_info": {
   "codemirror_mode": {
    "name": "ipython",
    "version": 3
   },
   "file_extension": ".py",
   "mimetype": "text/x-python",
   "name": "python",
   "nbconvert_exporter": "python",
   "pygments_lexer": "ipython3",
   "version": "3.9.7"
  }
 },
 "nbformat": 4,
 "nbformat_minor": 5
}
