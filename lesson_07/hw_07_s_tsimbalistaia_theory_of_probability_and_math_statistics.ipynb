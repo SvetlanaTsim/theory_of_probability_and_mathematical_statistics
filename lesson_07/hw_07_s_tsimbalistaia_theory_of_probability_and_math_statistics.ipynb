{
 "cells": [
  {
   "cell_type": "markdown",
   "id": "e3381b22",
   "metadata": {},
   "source": [
    "## **Урок 7. Многомерный статистический анализ. Линейная регрессия**"
   ]
  },
  {
   "cell_type": "markdown",
   "id": "f817020c",
   "metadata": {},
   "source": [
    "#### Задача 1. Даны значения величины заработной платы заемщиков банка (zp) и значения их поведенческого кредитного \n",
    "#### скоринга (ks): zp = [35, 45, 190, 200, 40, 70, 54, 150, 120, 110], ks = [401, 574, 874, 919, 459, 739, 653, 902, 746, 832]. Используя\n",
    "#### математические операции, посчитать коэффициенты линейной регрессии, приняв за X заработную плату (то есть, zp - \n",
    "#### признак), а за y - значения скорингового балла (то есть, ks - целевая переменная). Произвести расчет как с \n",
    "#### использованием intercept, так и без."
   ]
  },
  {
   "cell_type": "code",
   "execution_count": 558,
   "id": "cc5008fc",
   "metadata": {},
   "outputs": [],
   "source": [
    "import numpy as np\n",
    "import matplotlib.pyplot as plt\n",
    "from scipy import stats\n",
    "import seaborn as sns"
   ]
  },
  {
   "cell_type": "code",
   "execution_count": 559,
   "id": "1907a109",
   "metadata": {},
   "outputs": [],
   "source": [
    "X = np.array([35, 45, 190, 200, 40, 70, 54, 150, 120, 110])"
   ]
  },
  {
   "cell_type": "code",
   "execution_count": 560,
   "id": "08683014",
   "metadata": {},
   "outputs": [
    {
     "data": {
      "text/plain": [
       "10"
      ]
     },
     "execution_count": 560,
     "metadata": {},
     "output_type": "execute_result"
    }
   ],
   "source": [
    "len(X)"
   ]
  },
  {
   "cell_type": "code",
   "execution_count": 561,
   "id": "04cdc8c6",
   "metadata": {},
   "outputs": [],
   "source": [
    "y = np.array([401, 574, 874, 919, 459, 739, 653, 902, 746, 832])"
   ]
  },
  {
   "cell_type": "code",
   "execution_count": 562,
   "id": "00df4719",
   "metadata": {},
   "outputs": [
    {
     "data": {
      "text/plain": [
       "10"
      ]
     },
     "execution_count": 562,
     "metadata": {},
     "output_type": "execute_result"
    }
   ],
   "source": [
    "len(y)"
   ]
  },
  {
   "cell_type": "code",
   "execution_count": 563,
   "id": "a908b121",
   "metadata": {},
   "outputs": [
    {
     "data": {
      "image/png": "[encoded data removed]",
      "text/plain": [
       "<Figure size 432x288 with 1 Axes>"
      ]
     },
     "metadata": {
      "needs_background": "light"
     },
     "output_type": "display_data"
    }
   ],
   "source": [
    "plt.scatter(X,y)\n",
    "plt.show()"
   ]
  },
  {
   "cell_type": "code",
   "execution_count": 564,
   "id": "20f46661",
   "metadata": {},
   "outputs": [
    {
     "data": {
      "text/plain": [
       "ShapiroResult(statistic=0.8886317610740662, pvalue=0.1636563241481781)"
      ]
     },
     "execution_count": 564,
     "metadata": {},
     "output_type": "execute_result"
    }
   ],
   "source": [
    "#данные распеределены нормально\n",
    "stats.shapiro(X)"
   ]
  },
  {
   "cell_type": "code",
   "execution_count": 565,
   "id": "d16b7e45",
   "metadata": {},
   "outputs": [
    {
     "data": {
      "text/plain": [
       "2.620538882402765"
      ]
     },
     "execution_count": 565,
     "metadata": {},
     "output_type": "execute_result"
    }
   ],
   "source": [
    "#С использованием математических формул\n",
    "b = (np.mean(X*y) - np.mean(X) * np.mean(y)) / (np.mean(X ** 2) - np.mean(X) ** 2)\n",
    "b"
   ]
  },
  {
   "cell_type": "code",
   "execution_count": 566,
   "id": "4132167d",
   "metadata": {},
   "outputs": [
    {
     "data": {
      "text/plain": [
       "2.6205388824027653"
      ]
     },
     "execution_count": 566,
     "metadata": {},
     "output_type": "execute_result"
    }
   ],
   "source": [
    "#2й способ\n",
    "n = 10\n",
    "\n",
    "b_1 = (n * (np.sum(X * y)) - (np.sum(X) * np.sum(y))) / (n * (np.sum(X ** 2)) - ((np.sum(X) ** 2)))\n",
    "b_1"
   ]
  },
  {
   "cell_type": "code",
   "execution_count": 567,
   "id": "81a57d7f",
   "metadata": {},
   "outputs": [
    {
     "data": {
      "text/plain": [
       "444.1773573243596"
      ]
     },
     "execution_count": 567,
     "metadata": {},
     "output_type": "execute_result"
    }
   ],
   "source": [
    "a = np.mean(y) - (b * np.mean(X))\n",
    "a "
   ]
  },
  {
   "cell_type": "code",
   "execution_count": 568,
   "id": "d881bc5b",
   "metadata": {},
   "outputs": [
    {
     "data": {
      "text/plain": [
       "array([535.89621821, 562.10160703, 942.07974498, 968.2851338 ,\n",
       "       548.99891262, 627.61507909, 585.68645697, 837.25818968,\n",
       "       758.64202321, 732.43663439])"
      ]
     },
     "execution_count": 568,
     "metadata": {},
     "output_type": "execute_result"
    }
   ],
   "source": [
    "y_hat = 444.1773573243596 + (2.6205388824027653 * X)\n",
    "y_hat"
   ]
  },
  {
   "cell_type": "code",
   "execution_count": 569,
   "id": "4f4574e7",
   "metadata": {},
   "outputs": [
    {
     "data": {
      "text/plain": [
       "array([401, 574, 874, 919, 459, 739, 653, 902, 746, 832])"
      ]
     },
     "execution_count": 569,
     "metadata": {},
     "output_type": "execute_result"
    }
   ],
   "source": [
    "y"
   ]
  },
  {
   "cell_type": "code",
   "execution_count": 570,
   "id": "0a6541f4",
   "metadata": {},
   "outputs": [
    {
     "data": {
      "image/png": "[encoded data removed]",
      "text/plain": [
       "<Figure size 432x288 with 1 Axes>"
      ]
     },
     "metadata": {
      "needs_background": "light"
     },
     "output_type": "display_data"
    }
   ],
   "source": [
    "%matplotlib inline\n",
    "plt.scatter(X,y)\n",
    "plt.plot(X, 444.1773573243596 + (2.6205388824027653 * X))\n",
    "plt.show()"
   ]
  },
  {
   "cell_type": "code",
   "execution_count": 571,
   "id": "ca36199f",
   "metadata": {},
   "outputs": [
    {
     "data": {
      "text/plain": [
       "6470.414201176658"
      ]
     },
     "execution_count": 571,
     "metadata": {},
     "output_type": "execute_result"
    }
   ],
   "source": [
    "mse = ((y - y_hat) ** 2).sum() / n\n",
    "mse"
   ]
  },
  {
   "cell_type": "code",
   "execution_count": 572,
   "id": "96126c37",
   "metadata": {},
   "outputs": [
    {
     "data": {
      "text/plain": [
       "array([[ 35],\n",
       "       [ 45],\n",
       "       [190],\n",
       "       [200],\n",
       "       [ 40],\n",
       "       [ 70],\n",
       "       [ 54],\n",
       "       [150],\n",
       "       [120],\n",
       "       [110]])"
      ]
     },
     "execution_count": 572,
     "metadata": {},
     "output_type": "execute_result"
    }
   ],
   "source": [
    "#Матричный метод\n",
    "#с использованием intercept\n",
    "X = X.reshape(10,1)\n",
    "X "
   ]
  },
  {
   "cell_type": "code",
   "execution_count": 573,
   "id": "c88e372c",
   "metadata": {},
   "outputs": [
    {
     "data": {
      "text/plain": [
       "array([[401],\n",
       "       [574],\n",
       "       [874],\n",
       "       [919],\n",
       "       [459],\n",
       "       [739],\n",
       "       [653],\n",
       "       [902],\n",
       "       [746],\n",
       "       [832]])"
      ]
     },
     "execution_count": 573,
     "metadata": {},
     "output_type": "execute_result"
    }
   ],
   "source": [
    "y = y.reshape(10,1)\n",
    "y "
   ]
  },
  {
   "attachments": {
    "image-2.png": {
     "image/png": "[encoded data removed]"
    },
    "image.png": {
     "image/png": "[encoded data removed]"
    }
   },
   "cell_type": "markdown",
   "id": "817f7c12",
   "metadata": {},
   "source": [
    "![image.png](attachment:image.png)\n",
    "![image-2.png](attachment:image-2.png)"
   ]
  },
  {
   "cell_type": "code",
   "execution_count": 574,
   "id": "8e3559de",
   "metadata": {},
   "outputs": [
    {
     "data": {
      "text/plain": [
       "array([[  1.,  35.],\n",
       "       [  1.,  45.],\n",
       "       [  1., 190.],\n",
       "       [  1., 200.],\n",
       "       [  1.,  40.],\n",
       "       [  1.,  70.],\n",
       "       [  1.,  54.],\n",
       "       [  1., 150.],\n",
       "       [  1., 120.],\n",
       "       [  1., 110.]])"
      ]
     },
     "execution_count": 574,
     "metadata": {},
     "output_type": "execute_result"
    }
   ],
   "source": [
    "X = np.hstack([np.ones((10,1)),X])\n",
    "X"
   ]
  },
  {
   "cell_type": "code",
   "execution_count": 575,
   "id": "aa58e4eb",
   "metadata": {},
   "outputs": [
    {
     "data": {
      "text/plain": [
       "array([[444.17735732],\n",
       "       [  2.62053888]])"
      ]
     },
     "execution_count": 575,
     "metadata": {},
     "output_type": "execute_result"
    }
   ],
   "source": [
    "B = np.dot(np.linalg.inv(np.dot(X.T, X)), X.T @ y)\n",
    "B"
   ]
  },
  {
   "cell_type": "code",
   "execution_count": 576,
   "id": "2d7e118a",
   "metadata": {},
   "outputs": [
    {
     "data": {
      "text/plain": [
       "array([535.89621812, 562.10160692, 942.07974452, 968.28513332,\n",
       "       548.99891252, 627.61507892, 585.68645684, 837.25818932,\n",
       "       758.64202292, 732.43663412])"
      ]
     },
     "execution_count": 576,
     "metadata": {},
     "output_type": "execute_result"
    }
   ],
   "source": [
    "X = np.array([35, 45, 190, 200, 40, 70, 54, 150, 120, 110])\n",
    "y = np.array([401, 574, 874, 919, 459, 739, 653, 902, 746, 832])\n",
    "y_hat = 444.17735732 + (2.62053888 * X)\n",
    "y_hat"
   ]
  },
  {
   "cell_type": "code",
   "execution_count": 577,
   "id": "003332d7",
   "metadata": {},
   "outputs": [
    {
     "data": {
      "image/png": "[encoded data removed]",
      "text/plain": [
       "<Figure size 432x288 with 1 Axes>"
      ]
     },
     "metadata": {
      "needs_background": "light"
     },
     "output_type": "display_data"
    }
   ],
   "source": [
    "%matplotlib inline\n",
    "plt.scatter(X,y)\n",
    "plt.plot(X, 444.17735732 + (2.62053888 * X))\n",
    "plt.show()"
   ]
  },
  {
   "cell_type": "code",
   "execution_count": 578,
   "id": "40d35062",
   "metadata": {},
   "outputs": [
    {
     "data": {
      "text/plain": [
       "6470.414201176658"
      ]
     },
     "execution_count": 578,
     "metadata": {},
     "output_type": "execute_result"
    }
   ],
   "source": [
    "mse = ((y - y_hat) ** 2).sum() / n\n",
    "mse"
   ]
  },
  {
   "cell_type": "code",
   "execution_count": 579,
   "id": "b6e517ba",
   "metadata": {},
   "outputs": [],
   "source": [
    "#Матричный метод\n",
    "#без intercept"
   ]
  },
  {
   "cell_type": "code",
   "execution_count": 580,
   "id": "44f01e54",
   "metadata": {},
   "outputs": [
    {
     "data": {
      "text/plain": [
       "array([[ 35],\n",
       "       [ 45],\n",
       "       [190],\n",
       "       [200],\n",
       "       [ 40],\n",
       "       [ 70],\n",
       "       [ 54],\n",
       "       [150],\n",
       "       [120],\n",
       "       [110]])"
      ]
     },
     "execution_count": 580,
     "metadata": {},
     "output_type": "execute_result"
    }
   ],
   "source": [
    "X = X.reshape(10,1)\n",
    "X "
   ]
  },
  {
   "cell_type": "code",
   "execution_count": 581,
   "id": "99b67184",
   "metadata": {},
   "outputs": [
    {
     "data": {
      "text/plain": [
       "array([[401],\n",
       "       [574],\n",
       "       [874],\n",
       "       [919],\n",
       "       [459],\n",
       "       [739],\n",
       "       [653],\n",
       "       [902],\n",
       "       [746],\n",
       "       [832]])"
      ]
     },
     "execution_count": 581,
     "metadata": {},
     "output_type": "execute_result"
    }
   ],
   "source": [
    "y = y.reshape(10,1)\n",
    "y "
   ]
  },
  {
   "cell_type": "code",
   "execution_count": 582,
   "id": "23bb8551",
   "metadata": {},
   "outputs": [
    {
     "data": {
      "text/plain": [
       "array([[5.88982042]])"
      ]
     },
     "execution_count": 582,
     "metadata": {},
     "output_type": "execute_result"
    }
   ],
   "source": [
    "B = np.dot(np.linalg.inv(np.dot(X.T, X)), X.T @ y)\n",
    "B"
   ]
  },
  {
   "cell_type": "code",
   "execution_count": 583,
   "id": "55118903",
   "metadata": {},
   "outputs": [
    {
     "data": {
      "text/plain": [
       "array([ 206.1437147 ,  265.0419189 , 1119.0658798 , 1177.964084  ,\n",
       "        235.5928168 ,  412.2874294 ,  318.05030268,  883.473063  ,\n",
       "        706.7784504 ,  647.8802462 ])"
      ]
     },
     "execution_count": 583,
     "metadata": {},
     "output_type": "execute_result"
    }
   ],
   "source": [
    "X = np.array([35, 45, 190, 200, 40, 70, 54, 150, 120, 110])\n",
    "y = np.array([401, 574, 874, 919, 459, 739, 653, 902, 746, 832])\n",
    "y_hat = 0 + (5.88982042 * X)\n",
    "y_hat"
   ]
  },
  {
   "cell_type": "code",
   "execution_count": 584,
   "id": "ac5f6ecf",
   "metadata": {},
   "outputs": [
    {
     "data": {
      "image/png": "[encoded data removed]",
      "text/plain": [
       "<Figure size 432x288 with 1 Axes>"
      ]
     },
     "metadata": {
      "needs_background": "light"
     },
     "output_type": "display_data"
    }
   ],
   "source": [
    "%matplotlib inline\n",
    "plt.scatter(X,y)\n",
    "plt.plot(X, 0 + (5.88982042 * X))\n",
    "plt.show()"
   ]
  },
  {
   "cell_type": "code",
   "execution_count": 585,
   "id": "2f673f6e",
   "metadata": {},
   "outputs": [
    {
     "data": {
      "text/plain": [
       "56516.85841571943"
      ]
     },
     "execution_count": 585,
     "metadata": {},
     "output_type": "execute_result"
    }
   ],
   "source": [
    "mse = ((y - y_hat) ** 2).sum() / n\n",
    "mse"
   ]
  },
  {
   "cell_type": "markdown",
   "id": "68aea3c2",
   "metadata": {},
   "source": [
    "#### Задача 2. Посчитать коэффициент линейной регрессии при заработной плате (zp), \n",
    "####  используя градиентный спуск (без intercept)."
   ]
  },
  {
   "cell_type": "code",
   "execution_count": 586,
   "id": "cb56be62",
   "metadata": {},
   "outputs": [],
   "source": [
    "X = np.array([35, 45, 190, 200, 40, 70, 54, 150, 120, 110])\n",
    "y = np.array([401, 574, 874, 919, 459, 739, 653, 902, 746, 832])"
   ]
  },
  {
   "cell_type": "code",
   "execution_count": 587,
   "id": "658a729b",
   "metadata": {},
   "outputs": [],
   "source": [
    "def mse_(B1, y=y, X=X, n=10):\n",
    "    return np.sum((B1 * X - y) ** 2) / n"
   ]
  },
  {
   "cell_type": "code",
   "execution_count": 588,
   "id": "8a8547c2",
   "metadata": {},
   "outputs": [
    {
     "data": {
      "text/plain": [
       "1e-06"
      ]
     },
     "execution_count": 588,
     "metadata": {},
     "output_type": "execute_result"
    }
   ],
   "source": [
    "alpha = 1e-6\n",
    "alpha"
   ]
  },
  {
   "cell_type": "code",
   "execution_count": 589,
   "id": "806fc1d8",
   "metadata": {},
   "outputs": [],
   "source": [
    "B1 = 0.1"
   ]
  },
  {
   "cell_type": "code",
   "execution_count": 590,
   "id": "f6697d10",
   "metadata": {},
   "outputs": [],
   "source": [
    "n = 10"
   ]
  },
  {
   "cell_type": "code",
   "execution_count": 591,
   "id": "ea53062f",
   "metadata": {},
   "outputs": [
    {
     "name": "stdout",
     "output_type": "stream",
     "text": [
      "B1=0.25952808\n",
      "B1=0.414660650906144\n",
      "B1=0.5655188230595969\n",
      "B1=0.7122203698240712\n",
      "B1=0.8548798195302346\n",
      "B1=0.9936085448867542\n",
      "B1=1.1285148499277806\n",
      "B1=1.2597040545647504\n",
      "B1=1.387278576808517\n",
      "B1=1.5113380127259965\n"
     ]
    }
   ],
   "source": [
    "for i in range(10):\n",
    "    B1 -= alpha * (2/n) * np.sum((B1 * X - y) * X)\n",
    "    print('B1={}'.format(B1))"
   ]
  },
  {
   "cell_type": "code",
   "execution_count": 592,
   "id": "58e26433",
   "metadata": {},
   "outputs": [
    {
     "name": "stdout",
     "output_type": "stream",
     "text": [
      "iteration=0, B1=1.6319792141937546, mse=306275.7568040035\n",
      "iteration=10, B1=2.6698789606516935, mse=199352.96411174876\n",
      "iteration=20, B1=3.4547782236263824, mse=138204.25062502263\n",
      "iteration=30, B1=4.04834889855975, mse=103233.54824312925\n",
      "iteration=40, B1=4.497229618367758, mse=83233.94472982832\n",
      "iteration=50, B1=4.836690291080364, mse=71796.25222021657\n",
      "iteration=60, B1=5.093403362579137, mse=65255.0820486468\n",
      "iteration=70, B1=5.287539550879594, mse=61514.21323463749\n",
      "iteration=80, B1=5.434352720103083, mse=59374.825462025976\n",
      "iteration=90, B1=5.54537842245223, mse=58151.31823171113\n"
     ]
    }
   ],
   "source": [
    "for i in range(100):\n",
    "    B1 -= alpha * (2/n) * np.sum((B1 * X - y) * X)\n",
    "    if i % 10 == 0:\n",
    "         print('iteration={}, B1={}, mse={}'.format(i, B1, mse_(B1)))      "
   ]
  },
  {
   "cell_type": "code",
   "execution_count": 593,
   "id": "32759ae4",
   "metadata": {},
   "outputs": [
    {
     "name": "stdout",
     "output_type": "stream",
     "text": [
      "iteration=0, B1=5.629340281237233, mse=57451.59938606899\n",
      "iteration=500, B1=5.889820196929507, mse=56516.85841572009\n",
      "iteration=1000, B1=5.889820420132498, mse=56516.85841571941\n",
      "iteration=1500, B1=5.889820420132673, mse=56516.85841571943\n",
      "iteration=2000, B1=5.889820420132673, mse=56516.85841571943\n",
      "iteration=2500, B1=5.889820420132673, mse=56516.85841571943\n"
     ]
    }
   ],
   "source": [
    "for i in range(3000):\n",
    "    B1 -= alpha * (2/n) * np.sum((B1 * X - y) * X)\n",
    "    if i % 500 == 0:\n",
    "         print('iteration={}, B1={}, mse={}'.format(i, B1, mse_(B1)))     "
   ]
  },
  {
   "cell_type": "code",
   "execution_count": 594,
   "id": "cf3ca9bf",
   "metadata": {},
   "outputs": [
    {
     "data": {
      "text/plain": [
       "56516.85841571943"
      ]
     },
     "execution_count": 594,
     "metadata": {},
     "output_type": "execute_result"
    }
   ],
   "source": [
    "mse_(5.889820420132673)"
   ]
  },
  {
   "cell_type": "markdown",
   "id": "4c53d4e8",
   "metadata": {},
   "source": [
    "#### Задача 3*. Произвести вычисления как в пункте 2, но с вычислением intercept. \n",
    "#### Учесть, что изменение коэффициентов должно производиться на каждом шаге одновременно \n",
    "#### (то есть изменение одного коэффициента не должно влиять на изменение другого во время одной итерации)."
   ]
  },
  {
   "cell_type": "code",
   "execution_count": 595,
   "id": "73f34f5b",
   "metadata": {},
   "outputs": [],
   "source": [
    "B0 = 0.1\n",
    "B1 = 0.1\n",
    "mse = (1 / n) * np.sum(((B0 + B1 * X) - y) ** 2)\n",
    "#производная по B1\n",
    "#derivative for B1\n",
    "mse_B1 = (2 / n) * np.sum(((B0 + B1 * X) - y) * X)\n",
    "#производная по B0\n",
    "#derivative for B0\n",
    "mse_B0 = (2 / n) * np.sum((B0 + B1 * X) - y)"
   ]
  },
  {
   "cell_type": "code",
   "execution_count": 596,
   "id": "979616b6",
   "metadata": {},
   "outputs": [
    {
     "data": {
      "text/plain": [
       "1e-05"
      ]
     },
     "execution_count": 596,
     "metadata": {},
     "output_type": "execute_result"
    }
   ],
   "source": [
    "#can`t make 1e-5, raised error\n",
    "alpha = 1e-5\n",
    "alpha"
   ]
  },
  {
   "cell_type": "code",
   "execution_count": 597,
   "id": "249fb7f1",
   "metadata": {},
   "outputs": [],
   "source": [
    "def mse_(B1, B0, y=y, X=X, n=10):\n",
    "    return np.sum(((B0 + B1 * X) - y) ** 2) / n"
   ]
  },
  {
   "cell_type": "code",
   "execution_count": 598,
   "id": "cfc0b971",
   "metadata": {},
   "outputs": [
    {
     "name": "stdout",
     "output_type": "stream",
     "text": [
      "iteration=0, B1=1.6950780000000003, B0=0.110758381816, mse=298808.8700218417\n",
      "iteration=50000, B1=5.15665370660389, B0=99.61723711727208, mse=36585.93760739143\n",
      "iteration=100000, B1=4.588459999872217, B0=176.81283174262413, mse=24603.34326391016\n",
      "iteration=150000, B1=4.147564980600855, B0=236.71344798806558, mse=17388.475028446403\n",
      "iteration=200000, B1=3.805448523281312, B0=283.193870141655, mse=13044.313642108338\n",
      "iteration=250000, B1=3.539980179904944, B0=319.26077193650985, mse=10428.640349866266\n",
      "iteration=300000, B1=3.3339876302124964, B0=347.2472089095093, mse=8853.71111421085\n",
      "iteration=350000, B1=3.1741458577845387, B0=368.963536497019, mse=7905.426745257484\n",
      "iteration=400000, B1=3.0501151962336612, B0=385.8145162892279, mse=7334.452999870819\n",
      "iteration=450000, B1=2.953872488391512, B0=398.890185681915, mse=6990.6626468980585\n",
      "iteration=500000, B1=2.879192093262043, B0=409.03636900034104, mse=6783.662223932758\n",
      "iteration=550000, B1=2.821243168696908, B0=416.9093912403037, mse=6659.024709420601\n",
      "iteration=600000, B1=2.776277179263722, B0=423.01853368783054, mse=6583.978920618605\n",
      "iteration=650000, B1=2.7413854151648827, B0=427.75897773926295, mse=6538.792923136503\n",
      "iteration=700000, B1=2.71431083686087, B0=431.4373679548657, mse=6511.585875265579\n",
      "iteration=750000, B1=2.693302074212329, B0=434.2916479403407, mse=6495.204175289937\n",
      "iteration=800000, B1=2.677000135801095, B0=436.5064521775079, mse=6485.340551152369\n",
      "iteration=850000, B1=2.6643505000081875, B0=438.22504945385674, mse=6479.401541081874\n",
      "iteration=900000, B1=2.6545349012949466, B0=439.5586104741486, mse=6475.825589674406\n",
      "iteration=950000, B1=2.6469183991539293, B0=440.59339914705225, mse=6473.672465110419\n",
      "iteration=1000000, B1=2.641008305785271, B0=441.3963527286912, mse=6472.376042184087\n",
      "iteration=1050000, B1=2.6364223156576623, B0=442.01941178522867, mse=6471.595449908097\n",
      "iteration=1100000, B1=2.6328637753539583, B0=442.5028800663592, mse=6471.125445645621\n",
      "iteration=1150000, B1=2.6301024939860054, B0=442.87803162928856, mse=6470.842450266939\n",
      "iteration=1200000, B1=2.6279598528628716, B0=443.16913386011134, mse=6470.672055249804\n",
      "iteration=1250000, B1=2.626297251204185, B0=443.3950172554162, mse=6470.569458302814\n",
      "iteration=1300000, B1=2.6250071404873236, B0=443.5702935084629, mse=6470.507683412287\n",
      "iteration=1350000, B1=2.6240060674683083, B0=443.70630069412994, mse=6470.4704879867695\n",
      "iteration=1400000, B1=2.623229275851658, B0=443.811836693626, mse=6470.448092161091\n",
      "iteration=1450000, B1=2.622626517407276, B0=443.89372830203035, mse=6470.434607357491\n",
      "iteration=1500000, B1=2.622158801568773, B0=443.9572728324277, mse=6470.426487990493\n",
      "iteration=1550000, B1=2.621795873255454, B0=444.006580782553, mse=6470.42159921921\n",
      "iteration=1600000, B1=2.6215142557651583, B0=444.0448417301183, mse=6470.418655629563\n",
      "iteration=1650000, B1=2.621295732139637, B0=444.07453065664464, mse=6470.416883257839\n",
      "iteration=1700000, B1=2.6211261667660954, B0=444.09756804632934, mse=6470.4158160909055\n",
      "iteration=1750000, B1=2.620994590988814, B0=444.11544411613653, mse=6470.415173536495\n",
      "iteration=1800000, B1=2.620892493580512, B0=444.1293152133525, mse=6470.414786646541\n",
      "iteration=1850000, B1=2.6208132701778477, B0=444.1400786160521, mse=6470.4145536953165\n",
      "iteration=1900000, B1=2.620751796065751, B0=444.14843057521875, mse=6470.414413432499\n",
      "iteration=1950000, B1=2.6207040946753164, B0=444.1549113530863, mse=6470.414328978526\n",
      "iteration=2000000, B1=2.6206670803521663, B0=444.15994017099007, mse=6470.414278127742\n",
      "iteration=2050000, B1=2.6206383587551105, B0=444.1638423274853, mse=6470.414247509859\n",
      "iteration=2100000, B1=2.6206160719734255, B0=444.1668702409312, mse=6470.414229074448\n",
      "iteration=2150000, B1=2.6205987783446227, B0=444.1692197776171, mse=6470.414217974262\n",
      "iteration=2200000, B1=2.620585359197745, B0=444.17104292174963, mse=6470.414211290707\n",
      "iteration=2250000, B1=2.6205749464900254, B0=444.1724576068378, mse=6470.414207266452\n",
      "iteration=2300000, B1=2.6205668666557727, B0=444.1735553444618, mse=6470.414204843399\n",
      "iteration=2350000, B1=2.6205605970356847, B0=444.1744071438482, mse=6470.414203384449\n",
      "iteration=2400000, B1=2.6205557320675763, B0=444.17506810524486, mse=6470.414202505994\n",
      "iteration=2450000, B1=2.6205519570517684, B0=444.17558098419187, mse=6470.414201977071\n",
      "iteration=2500000, B1=2.6205490277943326, B0=444.17597895721923, mse=6470.4142016585965\n",
      "iteration=2550000, B1=2.6205467548106256, B0=444.1762877679765, mse=6470.414201466838\n",
      "iteration=2600000, B1=2.620544991068482, B0=444.17652739246, mse=6470.41420135138\n",
      "iteration=2650000, B1=2.620543622476874, B0=444.17671333123707, mse=6470.414201281858\n"
     ]
    }
   ],
   "source": [
    "for i in range(2651000):\n",
    "    B1 -= alpha * (2 / n) * np.sum(((B0 + B1 * X) - y) * X)\n",
    "    B0 -= alpha * (2 / n) * np.sum((B0 + B1 * X) - y)\n",
    "    if i % 50000 == 0:\n",
    "         print('iteration={}, B1={}, B0={}, mse={}'.format(i, B1, B0, mse_(B1, B0)))  "
   ]
  },
  {
   "cell_type": "code",
   "execution_count": 599,
   "id": "f8810a01",
   "metadata": {},
   "outputs": [],
   "source": [
    "#iteration=2650000, B1=2.620543622476874, B0=444.17671333123707, mse=6470.414201281858\n",
    "\n",
    "#as result of task_1:\n",
    "#Bo = 444.1773573243596\n",
    "#B1 = 2.6205388824027653\n",
    "#mse 6470.414201176658"
   ]
  }
 ],
 "metadata": {
  "kernelspec": {
   "display_name": "Python 3 (ipykernel)",
   "language": "python",
   "name": "python3"
  },
  "language_info": {
   "codemirror_mode": {
    "name": "ipython",
    "version": 3
   },
   "file_extension": ".py",
   "mimetype": "text/x-python",
   "name": "python",
   "nbconvert_exporter": "python",
   "pygments_lexer": "ipython3",
   "version": "3.9.7"
  }
 },
 "nbformat": 4,
 "nbformat_minor": 5
}
